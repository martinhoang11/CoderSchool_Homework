{
  "nbformat": 4,
  "nbformat_minor": 0,
  "metadata": {
    "colab": {
      "name": "Copy of DAwP_Assignment_1.ipynb",
      "version": "0.3.2",
      "provenance": []
    },
    "kernelspec": {
      "name": "python3",
      "display_name": "Python 3"
    }
  },
  "cells": [
    {
      "cell_type": "markdown",
      "metadata": {
        "id": "jjZG7BNlbWtO",
        "colab_type": "text"
      },
      "source": [
        "![](https://i.imgur.com/0AUxkXt.png)"
      ]
    },
    {
      "cell_type": "markdown",
      "metadata": {
        "id": "jbpQzyjqbflM",
        "colab_type": "text"
      },
      "source": [
        "# Assignment 1 - The Hacker Rank\n",
        "\n",
        "HackerRank is a place where programmers from all over the world come together to solve problems in a wide range of Computer Science domains.\n",
        "\n",
        "As you solve more challenges, you earn points and move up the HackerRank Leaderboard.\n",
        "\n",
        "Looking for a job at an awesome company? You can get hired by solving [challenges](https://www.hackerrank.com/jobs/search)!\n",
        "\n",
        "It's cool. Let's establish your knowledge and fight for glory!\n",
        "\n",
        "But before that let's make it clear that.."
      ]
    },
    {
      "cell_type": "markdown",
      "metadata": {
        "id": "-ndmD4naciAN",
        "colab_type": "text"
      },
      "source": [
        "## Note-taking is IMPORTANT\n",
        "\n",
        "Blog: [Why is note-taking important](https://nickblackbourn.com/blog/why-is-note-taking-important/)\n",
        "\n",
        "Note taking isn’t just important for college students, it’s a valuable life skill.\n",
        "\n",
        "Effective note taking helps you to remember information and aids your understanding of that information. \n",
        "\n",
        "**Notes boost your understanding**\n",
        "\n",
        "By making notes, you force yourself to construct a conceptual mental representation of the ideas you are grappling with. It is this process that helps you comprehend the subject matter you are working with.\n",
        "\n",
        "**Notes are a repository of your thinking**\n",
        "\n",
        "When you need to recall something that you came across a while ago, you can go over the main ideas by looking over your notes. This is why good, comprehensive notes are so useful; they are a catalogue of the best ideas you’ve encountered, and what you thought about them.\n",
        "\n",
        "etc.\n",
        "\n",
        "\n",
        "\n",
        "\n",
        "\n",
        "\n",
        "\n"
      ]
    },
    {
      "cell_type": "markdown",
      "metadata": {
        "id": "IGvKPsdVfX-F",
        "colab_type": "text"
      },
      "source": [
        "## Requirements\n",
        "\n",
        "Pick 10 challenges on HackerRank about SQL and 5 about Python in **easy** level:\n",
        "\n",
        "[HackerRank - Domain SQL](https://www.hackerrank.com/domains/sql?filters%5Bdifficulty%5D%5B%5D=easy&filters%5Bsubdomains%5D%5B%5D=select)\n",
        "\n",
        "[HackerRank - Domain Python](https://www.hackerrank.com/domains/python?filters%5Bdifficulty%5D%5B%5D=easy)\n",
        "\n",
        "For each challenge:\n",
        "\n",
        "* Create a markdown cell first that describes the challenge.\n",
        "* Solve the challenge on HackerRank and copy your solution to a code cell below\n",
        "* (Optional) A short description about how you came up with the solution would be awesome."
      ]
    },
    {
      "cell_type": "markdown",
      "metadata": {
        "id": "higGK1Y5iAea",
        "colab_type": "text"
      },
      "source": [
        "## Example"
      ]
    },
    {
      "cell_type": "markdown",
      "metadata": {
        "id": "D2yU2FYDi4tj",
        "colab_type": "text"
      },
      "source": [
        "### SQL"
      ]
    },
    {
      "cell_type": "markdown",
      "metadata": {
        "id": "gu4DDH7Ki77C",
        "colab_type": "text"
      },
      "source": [
        "\n",
        "#### Problem 1\n",
        "\n",
        "Query all columns for all American cities in **CITY** with populations larger than 100000. The CountryCode for America is USA.\n",
        "\n",
        "**Input Format**\n",
        "\n",
        "The **CITY** table is described as follows:\n",
        "\n",
        "| Field | Type |\n",
        "|:----:|:---:|\n",
        "| ID | NUMBER |\n",
        "| NAME | VARCHAR2(17) |\n",
        "| COUNTRYCODE | VARCHAR2(3) |\n",
        "| DISTRICT | VARCHAR2(20) |\n",
        "| POPULATION | NUMBER |"
      ]
    },
    {
      "cell_type": "code",
      "metadata": {
        "id": "hhAwMjyhbT1b",
        "colab_type": "code",
        "colab": {}
      },
      "source": [
        "# Solution\n",
        "# SELECT * from city WHERE population>100000 AND countrycode='USA';"
      ],
      "execution_count": 0,
      "outputs": []
    },
    {
      "cell_type": "markdown",
      "metadata": {
        "id": "0AxyfiJijJ7T",
        "colab_type": "text"
      },
      "source": [
        "### Python"
      ]
    },
    {
      "cell_type": "markdown",
      "metadata": {
        "id": "PEW8LsB5jLqf",
        "colab_type": "text"
      },
      "source": [
        "#### Problem 1\n",
        "\n",
        "**Task** \n",
        "Given an integer, , perform the following conditional actions:\n",
        "\n",
        "* If `n` is odd, print *Weird*\n",
        "* If `n` is even and in the inclusive range of 2 to 5, print *Not Weird*\n",
        "* If `n` is even and in the inclusive range of 6 to 20, print *Weird*\n",
        "* If `n` is even and greater than 20, print *Not Weird*\n",
        "\n",
        "**Input Format**\n",
        "\n",
        "A single line containing a positive integer, .\n",
        "\n",
        "**Output Format**\n",
        "\n",
        "Print Weird if the number is weird; otherwise, print Not Weird."
      ]
    },
    {
      "cell_type": "code",
      "metadata": {
        "id": "JBOxgw0zjLC2",
        "colab_type": "code",
        "colab": {}
      },
      "source": [
        "n = int(input())\n",
        "\n",
        "if n % 2 == 1:\n",
        "    print('Weird')\n",
        "else:\n",
        "    if (n >= 2) and (n <= 5):\n",
        "        print('Not Weird')\n",
        "    elif (n >= 6) and (n <= 20):\n",
        "        print('Weird')\n",
        "    else:\n",
        "        print('Not Weird')"
      ],
      "execution_count": 0,
      "outputs": []
    },
    {
      "cell_type": "markdown",
      "metadata": {
        "id": "a-Q3VE7YkA9A",
        "colab_type": "text"
      },
      "source": [
        "## Your turn\n",
        "\n",
        "Good luck and have fun!"
      ]
    },
    {
      "cell_type": "markdown",
      "metadata": {
        "id": "rcHpduqze1W8",
        "colab_type": "text"
      },
      "source": [
        "### **Python**\n",
        "\n",
        "\n"
      ]
    },
    {
      "cell_type": "markdown",
      "metadata": {
        "id": "v3wmqdbHfSlz",
        "colab_type": "text"
      },
      "source": [
        "##### Probem 1\n",
        "Read two integers from STDIN and print three lines where:\n",
        "\n",
        "- The first line contains the sum of the two numbers.\n",
        "- The second line contains the difference of the two numbers (first - second).\n",
        "- The third line contains the product of the two numbers.\n",
        "- Input Format\n",
        "\n",
        "The first line contains the first integer, . The second line contains the second integer, .\n",
        "\n",
        "Constraints\n",
        "\n",
        " \n",
        "\n",
        "Output Format\n",
        "\n",
        "- Print the three lines as explained above.\n",
        "\n",
        "Sample Input 0\n",
        "\n",
        "3\n",
        "2\n",
        "Sample Output 0\n",
        "\n",
        "5\n",
        "1\n",
        "6\n",
        "\n",
        "\n"
      ]
    },
    {
      "cell_type": "code",
      "metadata": {
        "id": "Rb1HXknWfFKT",
        "colab_type": "code",
        "outputId": "b251e2a6-5361-43d7-ab24-b3cac8a75d6f",
        "colab": {
          "base_uri": "https://localhost:8080/",
          "height": 102
        }
      },
      "source": [
        "def operators(a, b):\n",
        "    print(a+b)\n",
        "    print(a-b)\n",
        "    print(a*b)\n",
        "if __name__ == '__main__':\n",
        "    a = int(input())\n",
        "    b = int(input())\n",
        "    operators(a, b)"
      ],
      "execution_count": 0,
      "outputs": [
        {
          "output_type": "stream",
          "text": [
            "56\n",
            "70\n",
            "126\n",
            "-14\n",
            "3920\n"
          ],
          "name": "stdout"
        }
      ]
    },
    {
      "cell_type": "markdown",
      "metadata": {
        "id": "D5VeOcfqguRt",
        "colab_type": "text"
      },
      "source": [
        "##### Problem 2\n",
        "\n",
        "Task\n",
        "\n",
        "- Read two integers and print two lines. The first line should contain integer division,  // . The second line should contain float division,  / .\n",
        "\n",
        "- You don't need to perform any rounding or formatting operations.\n",
        "\n",
        "Input Format\n",
        "\n",
        "- The first line contains the first integer, . The second line contains the second integer, .\n",
        "\n",
        "Output Format\n",
        "\n",
        "- Print the two lines as described above."
      ]
    },
    {
      "cell_type": "code",
      "metadata": {
        "id": "VZKjOe6fgwx0",
        "colab_type": "code",
        "colab": {}
      },
      "source": [
        "def problem(a, b):\n",
        "    print(a//b)\n",
        "    print(a/b)\n",
        "if __name__ == '__main__':\n",
        "    a = int(input())\n",
        "    b = int(input())\n",
        "    problem(a, b)"
      ],
      "execution_count": 0,
      "outputs": []
    },
    {
      "cell_type": "markdown",
      "metadata": {
        "id": "5_7ICyRgiRU-",
        "colab_type": "text"
      },
      "source": [
        "##### Problem 3\n",
        "Task \n",
        "- Read an integer . For all non-negative integers , print square all of them . See the sample for details.\n",
        "\n",
        "Input Format\n",
        "\n",
        "- The first and only line contains the integer, .\n",
        "\n",
        "Output Format\n",
        "\n",
        "- Print  lines, one corresponding to each ."
      ]
    },
    {
      "cell_type": "code",
      "metadata": {
        "id": "yGb6gVWWile4",
        "colab_type": "code",
        "outputId": "597fb9ae-0e41-4519-8d0a-20b12bf46f20",
        "colab": {
          "base_uri": "https://localhost:8080/",
          "height": 102
        }
      },
      "source": [
        "def problem(n):\n",
        "    if n < 1 and n > 20:\n",
        "        return\n",
        "    else:\n",
        "        for i in range(n):\n",
        "            print(i**2)\n",
        "\n",
        "if __name__ == '__main__':\n",
        "    n = int(input())\n",
        "    problem(n)"
      ],
      "execution_count": 0,
      "outputs": [
        {
          "output_type": "stream",
          "text": [
            "4\n",
            "0\n",
            "1\n",
            "4\n",
            "9\n"
          ],
          "name": "stdout"
        }
      ]
    },
    {
      "cell_type": "markdown",
      "metadata": {
        "id": "YeBB_Lk5i0YE",
        "colab_type": "text"
      },
      "source": [
        "##### Problem 4\n",
        "Read an integer .\n",
        "\n",
        "- Without using any string methods, try to print the following: 123....N\n",
        "\n",
        "- Note that \"\" represents the values in between.\n",
        "\n",
        "Input Format\n",
        "\n",
        "- The first line contains an integer .\n",
        "\n",
        "Output Format\n",
        "\n",
        "- Output the answer as explained in the task."
      ]
    },
    {
      "cell_type": "code",
      "metadata": {
        "id": "FzFln2mrlNro",
        "colab_type": "code",
        "colab": {}
      },
      "source": [
        "def represent(number):\n",
        "    strings = ''\n",
        "    for i in range(1, number + 1):\n",
        "        strings += str(i)  #add numbers as a string\n",
        "    return strings\n",
        "\n",
        "if __name__ == '__main__':\n",
        "    n = int(input())\n",
        "    print(represent(n))"
      ],
      "execution_count": 0,
      "outputs": []
    },
    {
      "cell_type": "markdown",
      "metadata": {
        "id": "AYrj_gihlZr8",
        "colab_type": "text"
      },
      "source": [
        "##### Problem *5*\n",
        "\n",
        "Input Format\n",
        "\n",
        "- The first line contains an integer N, the total number of country stamps.\n",
        "The next  lines contains the name of the country where the stamp is from. \n",
        "Constraints\n",
        "\n",
        "\n",
        "Output Format\n",
        "\n",
        "- Output the total number of distinct country stamps on a single line."
      ]
    },
    {
      "cell_type": "code",
      "metadata": {
        "id": "qeDwmOKfo5-0",
        "colab_type": "code",
        "colab": {}
      },
      "source": [
        "def set_add():\n",
        "    set_list = set() #create a set\n",
        "    number = int(input())\n",
        "    if number >= 1000 and number <= 0: #check whether the number is acceptd\n",
        "        number = int(input())\n",
        "    else:\n",
        "        for i in range(number):\n",
        "            string = input()\n",
        "            set_list.add(string)\n",
        "        return len(set_list)\n",
        "\n",
        "if __name__ == '__main__':\n",
        "    print(set_add())\n"
      ],
      "execution_count": 0,
      "outputs": []
    },
    {
      "cell_type": "markdown",
      "metadata": {
        "id": "DJjRl9xtp18a",
        "colab_type": "text"
      },
      "source": [
        "### SQL\n",
        "\n"
      ]
    },
    {
      "cell_type": "markdown",
      "metadata": {
        "id": "vLiVWk14p5eq",
        "colab_type": "text"
      },
      "source": [
        "##### Prblem 1\n",
        "Query all columns for all American cities in CITY with populations larger than 100000. The CountryCode for America is USA."
      ]
    },
    {
      "cell_type": "code",
      "metadata": {
        "id": "5L7HQALhqJcq",
        "colab_type": "code",
        "colab": {}
      },
      "source": [
        "SELECT * from city WHERE population>100000 AND countrycode='USA';"
      ],
      "execution_count": 0,
      "outputs": []
    },
    {
      "cell_type": "markdown",
      "metadata": {
        "id": "21FE6iGlqOkT",
        "colab_type": "text"
      },
      "source": [
        "##### Problem 2\n",
        "Query the names of all American cities in CITY with populations larger than 120000. The CountryCode for America is USA."
      ]
    },
    {
      "cell_type": "code",
      "metadata": {
        "id": "njvU3CvNqULJ",
        "colab_type": "code",
        "colab": {}
      },
      "source": [
        "SELECT NAME FROM CITY WHERE POPULATION>120000 AND COUNTRYCODE='USA';"
      ],
      "execution_count": 0,
      "outputs": []
    },
    {
      "cell_type": "markdown",
      "metadata": {
        "id": "xJza7Sw6qYf5",
        "colab_type": "text"
      },
      "source": [
        "##### Problem 3\n",
        "Query all columns for a city in CITY with the ID 1661"
      ]
    },
    {
      "cell_type": "code",
      "metadata": {
        "id": "yRbfkgV9qjeq",
        "colab_type": "code",
        "colab": {}
      },
      "source": [
        "SELECT * FROM CITY WHERE ID='1661';"
      ],
      "execution_count": 0,
      "outputs": []
    },
    {
      "cell_type": "markdown",
      "metadata": {
        "id": "aS8S9k9qqnjb",
        "colab_type": "text"
      },
      "source": [
        "##### Problem 4\n",
        "Query all attributes of every Japanese city in the CITY table. The COUNTRYCODE for Japan is JPN"
      ]
    },
    {
      "cell_type": "code",
      "metadata": {
        "id": "zS5Ym_0_qs1q",
        "colab_type": "code",
        "colab": {}
      },
      "source": [
        "SELECT * FROM CITY WHERE COUNTRYCODE='JPN';"
      ],
      "execution_count": 0,
      "outputs": []
    },
    {
      "cell_type": "markdown",
      "metadata": {
        "id": "QQNhiiBFqv7S",
        "colab_type": "text"
      },
      "source": [
        "##### Problem 5\n",
        "Query a list of CITY names from STATION with even ID numbers only. You may print the results in any order, but must exclude duplicates from your answer"
      ]
    },
    {
      "cell_type": "code",
      "metadata": {
        "id": "-XpaMQ1pq_ei",
        "colab_type": "code",
        "colab": {}
      },
      "source": [
        "SELECT DISTINCT CITY FROM STATION WHERE MOD(ID, 2) = 0;"
      ],
      "execution_count": 0,
      "outputs": []
    },
    {
      "cell_type": "markdown",
      "metadata": {
        "id": "j3rn0jW2rBhi",
        "colab_type": "text"
      },
      "source": [
        "##### Problem 6\n",
        "Let N  be the number of CITY entries in STATION, and N' let  be the number of distinct CITY names in STATION; query the value of  N - N' from STATION. In other words, find the difference between the total number of CITY entries in the table and the number of distinct CITY entries in the table"
      ]
    },
    {
      "cell_type": "code",
      "metadata": {
        "id": "apuuKn-trNqC",
        "colab_type": "code",
        "colab": {}
      },
      "source": [
        "SELECT (COUNT(CITY) - COUNT(DISTINCT CITY)) FROM STATION;"
      ],
      "execution_count": 0,
      "outputs": []
    },
    {
      "cell_type": "markdown",
      "metadata": {
        "id": "oX-gCZhXrQrL",
        "colab_type": "text"
      },
      "source": [
        "##### Problem 7\n",
        "Query the two cities in STATION with the shortest and longest CITY names, as well as their respective lengths (i.e.: number of characters in the name). If there is more than one smallest or largest city, choose the one that comes first when ordered alphabetically"
      ]
    },
    {
      "cell_type": "code",
      "metadata": {
        "id": "EIij0oFRrWVS",
        "colab_type": "code",
        "colab": {}
      },
      "source": [
        "select CITY,LENGTH(CITY) from STATION order by Length(CITY) asc, CITY limit 1; \n",
        "select CITY,LENGTH(CITY) from STATION order by Length(CITY) desc, CITY limit 1; "
      ],
      "execution_count": 0,
      "outputs": []
    },
    {
      "cell_type": "markdown",
      "metadata": {
        "id": "MDLpXPiErZSr",
        "colab_type": "text"
      },
      "source": [
        "##### Problem 8\n",
        "Query the list of CITY names starting with vowels (i.e., a, e, i, o, or u) from STATION. Your result cannot contain duplicates."
      ]
    },
    {
      "cell_type": "code",
      "metadata": {
        "id": "iK-zG5vcu6NW",
        "colab_type": "code",
        "colab": {}
      },
      "source": [
        "SELECT DISTINCT CITY \n",
        "FROM STATION  \n",
        "WHERE CITY LIKE '[AaEeIiOoUu]%';"
      ],
      "execution_count": 0,
      "outputs": []
    },
    {
      "cell_type": "markdown",
      "metadata": {
        "id": "RVV6Q6qxvCiz",
        "colab_type": "text"
      },
      "source": [
        "##### Problem 9\n",
        "Query the list of CITY names ending with vowels (a, e, i, o, u) from STATION. Your result cannot contain duplicates."
      ]
    },
    {
      "cell_type": "code",
      "metadata": {
        "id": "GhcQPBe2vRoE",
        "colab_type": "code",
        "colab": {}
      },
      "source": [
        "SELECT DISTINCT CITY \n",
        "FROM STATION  \n",
        "WHERE CITY LIKE '%[AaEeIiOoUu]';"
      ],
      "execution_count": 0,
      "outputs": []
    },
    {
      "cell_type": "markdown",
      "metadata": {
        "id": "guWLMdQTvUCr",
        "colab_type": "text"
      },
      "source": [
        "##### Problem 10\n",
        "Query the Name of any student in STUDENTS who scored higher than 75  Marks. Order your output by the last three characters of each name. If two or more students both have names ending in the same last three characters (i.e.: Bobby, Robby, etc.), secondary sort them by ascending ID."
      ]
    },
    {
      "cell_type": "code",
      "metadata": {
        "id": "oz9u_7Aoxcbo",
        "colab_type": "code",
        "colab": {}
      },
      "source": [
        "SELECT Name \n",
        "FROM STUDENTS \n",
        "WHERE Marks > 75\n",
        "ORDER BY RIGHT(Name, 3), ID ASC;"
      ],
      "execution_count": 0,
      "outputs": []
    }
  ]
}