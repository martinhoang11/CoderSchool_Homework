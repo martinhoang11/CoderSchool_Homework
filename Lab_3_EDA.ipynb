{
 "cells": [
  {
   "cell_type": "markdown",
   "metadata": {
    "colab_type": "text",
    "id": "x7fdTGs4SnyS"
   },
   "source": [
    "![](https://i.imgur.com/0AUxkXt.png)"
   ]
  },
  {
   "cell_type": "markdown",
   "metadata": {
    "colab_type": "text",
    "id": "_uqy69P0Pm0L"
   },
   "source": [
    "# Lab 3 - From data to insights\n",
    "\n",
    "Before you explore the data, write down a short list of what you expect to see in the data: the distribution of key variables, the relationships between important pairs of them, and so on. Such a list is essentially a prediction based on your current understanding of the business.\n",
    "\n",
    "Now analyze the data. Make plots, do summaries, whatever is needed to see if it matches your expectations.\n",
    "\n",
    "Is there anything that doesn’t match? Anything that makes you go “That’s odd” or “That doesn’t make any sense.”?\n",
    "\n",
    "Zoom in and try to understand what in your business is making that weird thing show up in the data like that. This is the critical step.\n",
    "\n",
    "You may have just found an insight into the business and increased your understanding\n",
    "\n",
    "\n",
    "## The data analysis checklist\n",
    "\n",
    "This checklist can be used as a guide during the process of a data analysis, or as a way to evaluate the quality of a reported data analysis.\n",
    "\n",
    "### Answering the first questions\n",
    "\n",
    "1. Did you define the metric for success before beginning?\n",
    "2. Did you understand the context for the question and business application?\n",
    "3. Did you consider whether the question could be answered with the available data?\n",
    "\n",
    "### Cleaning the data\n",
    "\n",
    "1. Did you identify the missing data?\n",
    "2. Is each variable one column?\n",
    "3. Do different data types appear in each table?\n",
    "4. Did you try to identify any errors or miscoding of variables?\n",
    "5. Did you check for outliers?\n",
    "\n",
    "### Exploratory analysis\n",
    "\n",
    "1. Did you make univariate plots (histogram, distplot, boxplot)?\n",
    "2. Did you consider correlations between variables (scatterplot, jointplot, kde plot, correlation matrix)?\n",
    "3. Did you check the units of all data points to make sure they are in the right range?\n",
    "\n",
    "### Presentations\n",
    "\n",
    "1. Did you lead with a brief, understandable to everyone of your problem?\n",
    "2. Did you explain the data, describe the question of interest?\n",
    "3. Did you make sure all legends and axes were legible from the back of the room?"
   ]
  },
  {
   "cell_type": "markdown",
   "metadata": {
    "colab_type": "text",
    "id": "ZBc0glanPm0M"
   },
   "source": [
    "## Example - San Francisco city employee salary data\n",
    "\n",
    "One way to understand how a city government works is by looking at who it employs and how its employees are compensated. This data contains the names, job title, and compensation for San Francisco city employees on an annual basis from 2011 to 2014.\n",
    "\n",
    "\n",
    "### Step 1 - Exploration Ideas\n",
    "\n",
    "1. How have salaries changed over time between different groups of people?\n",
    "2. How are base pay, overtime pay, and benefits allocated between different groups?\n",
    "4. How is budget allocated based on different groups and responsibilities?\n",
    "\n",
    "### Step 2 - Checking the data\n",
    "\n",
    "**Import tools set**"
   ]
  },
  {
   "cell_type": "code",
   "execution_count": 1,
   "metadata": {
    "colab": {},
    "colab_type": "code",
    "id": "9Cx3LXxfPm0N"
   },
   "outputs": [],
   "source": [
    "import numpy as np\n",
    "import pandas as pd\n",
    "import seaborn as sns\n",
    "import matplotlib.pyplot as plt\n",
    "%matplotlib inline\n",
    "import warnings\n",
    "warnings.filterwarnings('ignore')\n",
    "\n",
    "sns.set_style(\"whitegrid\")"
   ]
  },
  {
   "cell_type": "markdown",
   "metadata": {
    "colab_type": "text",
    "id": "mFTQu0j6Pm0Q"
   },
   "source": [
    "**Import data**"
   ]
  },
  {
   "cell_type": "code",
   "execution_count": 2,
   "metadata": {
    "colab": {
     "base_uri": "https://localhost:8080/",
     "height": 188
    },
    "colab_type": "code",
    "id": "w0YVchrVPm0R",
    "outputId": "b868ef62-3a56-42ab-c143-2d5c81c5e950"
   },
   "outputs": [],
   "source": [
    "# Fill the blanks\n",
    "# Load the data from https://ml101-khanhnguyen.s3-ap-southeast-1.amazonaws.com/devc/Salaries.csv into `sal` variable\n",
    "sal = pd.read_csv(\"https://ml101-khanhnguyen.s3-ap-southeast-1.amazonaws.com/devc/Salaries.csv\")\n"
   ]
  },
  {
   "cell_type": "markdown",
   "metadata": {
    "colab_type": "text",
    "id": "6nU6CxSjPm0U"
   },
   "source": [
    "**Check out head(), sample(), info(), describe()**"
   ]
  },
  {
   "cell_type": "code",
   "execution_count": 3,
   "metadata": {
    "colab": {},
    "colab_type": "code",
    "id": "v_BKYV2qPm0V"
   },
   "outputs": [
    {
     "data": {
      "text/html": [
       "<div>\n",
       "<style scoped>\n",
       "    .dataframe tbody tr th:only-of-type {\n",
       "        vertical-align: middle;\n",
       "    }\n",
       "\n",
       "    .dataframe tbody tr th {\n",
       "        vertical-align: top;\n",
       "    }\n",
       "\n",
       "    .dataframe thead th {\n",
       "        text-align: right;\n",
       "    }\n",
       "</style>\n",
       "<table border=\"1\" class=\"dataframe\">\n",
       "  <thead>\n",
       "    <tr style=\"text-align: right;\">\n",
       "      <th></th>\n",
       "      <th>Id</th>\n",
       "      <th>EmployeeName</th>\n",
       "      <th>JobTitle</th>\n",
       "      <th>BasePay</th>\n",
       "      <th>OvertimePay</th>\n",
       "      <th>OtherPay</th>\n",
       "      <th>Benefits</th>\n",
       "      <th>TotalPay</th>\n",
       "      <th>TotalPayBenefits</th>\n",
       "      <th>Year</th>\n",
       "      <th>Notes</th>\n",
       "      <th>Agency</th>\n",
       "      <th>Status</th>\n",
       "    </tr>\n",
       "  </thead>\n",
       "  <tbody>\n",
       "    <tr>\n",
       "      <th>0</th>\n",
       "      <td>1</td>\n",
       "      <td>NATHANIEL FORD</td>\n",
       "      <td>GENERAL MANAGER-METROPOLITAN TRANSIT AUTHORITY</td>\n",
       "      <td>167411.18</td>\n",
       "      <td>0.00</td>\n",
       "      <td>400184.25</td>\n",
       "      <td>NaN</td>\n",
       "      <td>567595.43</td>\n",
       "      <td>567595.43</td>\n",
       "      <td>2011</td>\n",
       "      <td>NaN</td>\n",
       "      <td>San Francisco</td>\n",
       "      <td>NaN</td>\n",
       "    </tr>\n",
       "    <tr>\n",
       "      <th>1</th>\n",
       "      <td>2</td>\n",
       "      <td>GARY JIMENEZ</td>\n",
       "      <td>CAPTAIN III (POLICE DEPARTMENT)</td>\n",
       "      <td>155966.02</td>\n",
       "      <td>245131.88</td>\n",
       "      <td>137811.38</td>\n",
       "      <td>NaN</td>\n",
       "      <td>538909.28</td>\n",
       "      <td>538909.28</td>\n",
       "      <td>2011</td>\n",
       "      <td>NaN</td>\n",
       "      <td>San Francisco</td>\n",
       "      <td>NaN</td>\n",
       "    </tr>\n",
       "    <tr>\n",
       "      <th>2</th>\n",
       "      <td>3</td>\n",
       "      <td>ALBERT PARDINI</td>\n",
       "      <td>CAPTAIN III (POLICE DEPARTMENT)</td>\n",
       "      <td>212739.13</td>\n",
       "      <td>106088.18</td>\n",
       "      <td>16452.60</td>\n",
       "      <td>NaN</td>\n",
       "      <td>335279.91</td>\n",
       "      <td>335279.91</td>\n",
       "      <td>2011</td>\n",
       "      <td>NaN</td>\n",
       "      <td>San Francisco</td>\n",
       "      <td>NaN</td>\n",
       "    </tr>\n",
       "    <tr>\n",
       "      <th>3</th>\n",
       "      <td>4</td>\n",
       "      <td>CHRISTOPHER CHONG</td>\n",
       "      <td>WIRE ROPE CABLE MAINTENANCE MECHANIC</td>\n",
       "      <td>77916.00</td>\n",
       "      <td>56120.71</td>\n",
       "      <td>198306.90</td>\n",
       "      <td>NaN</td>\n",
       "      <td>332343.61</td>\n",
       "      <td>332343.61</td>\n",
       "      <td>2011</td>\n",
       "      <td>NaN</td>\n",
       "      <td>San Francisco</td>\n",
       "      <td>NaN</td>\n",
       "    </tr>\n",
       "    <tr>\n",
       "      <th>4</th>\n",
       "      <td>5</td>\n",
       "      <td>PATRICK GARDNER</td>\n",
       "      <td>DEPUTY CHIEF OF DEPARTMENT,(FIRE DEPARTMENT)</td>\n",
       "      <td>134401.60</td>\n",
       "      <td>9737.00</td>\n",
       "      <td>182234.59</td>\n",
       "      <td>NaN</td>\n",
       "      <td>326373.19</td>\n",
       "      <td>326373.19</td>\n",
       "      <td>2011</td>\n",
       "      <td>NaN</td>\n",
       "      <td>San Francisco</td>\n",
       "      <td>NaN</td>\n",
       "    </tr>\n",
       "  </tbody>\n",
       "</table>\n",
       "</div>"
      ],
      "text/plain": [
       "   Id       EmployeeName                                        JobTitle  \\\n",
       "0   1     NATHANIEL FORD  GENERAL MANAGER-METROPOLITAN TRANSIT AUTHORITY   \n",
       "1   2       GARY JIMENEZ                 CAPTAIN III (POLICE DEPARTMENT)   \n",
       "2   3     ALBERT PARDINI                 CAPTAIN III (POLICE DEPARTMENT)   \n",
       "3   4  CHRISTOPHER CHONG            WIRE ROPE CABLE MAINTENANCE MECHANIC   \n",
       "4   5    PATRICK GARDNER    DEPUTY CHIEF OF DEPARTMENT,(FIRE DEPARTMENT)   \n",
       "\n",
       "     BasePay  OvertimePay   OtherPay  Benefits   TotalPay  TotalPayBenefits  \\\n",
       "0  167411.18         0.00  400184.25       NaN  567595.43         567595.43   \n",
       "1  155966.02    245131.88  137811.38       NaN  538909.28         538909.28   \n",
       "2  212739.13    106088.18   16452.60       NaN  335279.91         335279.91   \n",
       "3   77916.00     56120.71  198306.90       NaN  332343.61         332343.61   \n",
       "4  134401.60      9737.00  182234.59       NaN  326373.19         326373.19   \n",
       "\n",
       "   Year  Notes         Agency  Status  \n",
       "0  2011    NaN  San Francisco     NaN  \n",
       "1  2011    NaN  San Francisco     NaN  \n",
       "2  2011    NaN  San Francisco     NaN  \n",
       "3  2011    NaN  San Francisco     NaN  \n",
       "4  2011    NaN  San Francisco     NaN  "
      ]
     },
     "execution_count": 3,
     "metadata": {},
     "output_type": "execute_result"
    }
   ],
   "source": [
    "sal.head()"
   ]
  },
  {
   "cell_type": "code",
   "execution_count": 4,
   "metadata": {
    "colab": {},
    "colab_type": "code",
    "id": "OjLrS9wlPm0a"
   },
   "outputs": [
    {
     "data": {
      "text/html": [
       "<div>\n",
       "<style scoped>\n",
       "    .dataframe tbody tr th:only-of-type {\n",
       "        vertical-align: middle;\n",
       "    }\n",
       "\n",
       "    .dataframe tbody tr th {\n",
       "        vertical-align: top;\n",
       "    }\n",
       "\n",
       "    .dataframe thead th {\n",
       "        text-align: right;\n",
       "    }\n",
       "</style>\n",
       "<table border=\"1\" class=\"dataframe\">\n",
       "  <thead>\n",
       "    <tr style=\"text-align: right;\">\n",
       "      <th></th>\n",
       "      <th>Id</th>\n",
       "      <th>EmployeeName</th>\n",
       "      <th>JobTitle</th>\n",
       "      <th>BasePay</th>\n",
       "      <th>OvertimePay</th>\n",
       "      <th>OtherPay</th>\n",
       "      <th>Benefits</th>\n",
       "      <th>TotalPay</th>\n",
       "      <th>TotalPayBenefits</th>\n",
       "      <th>Year</th>\n",
       "      <th>Notes</th>\n",
       "      <th>Agency</th>\n",
       "      <th>Status</th>\n",
       "    </tr>\n",
       "  </thead>\n",
       "  <tbody>\n",
       "    <tr>\n",
       "      <th>28059</th>\n",
       "      <td>28060</td>\n",
       "      <td>SPENCER ROHRER</td>\n",
       "      <td>LIBRARY PAGE</td>\n",
       "      <td>29025.47</td>\n",
       "      <td>0.00</td>\n",
       "      <td>522.78</td>\n",
       "      <td>NaN</td>\n",
       "      <td>29548.25</td>\n",
       "      <td>29548.25</td>\n",
       "      <td>2011</td>\n",
       "      <td>NaN</td>\n",
       "      <td>San Francisco</td>\n",
       "      <td>NaN</td>\n",
       "    </tr>\n",
       "    <tr>\n",
       "      <th>14318</th>\n",
       "      <td>14319</td>\n",
       "      <td>JESSICA COLE</td>\n",
       "      <td>INVESTIGATOR, OFFICE OF CITIZEN COMPLAINTS</td>\n",
       "      <td>79801.83</td>\n",
       "      <td>0.00</td>\n",
       "      <td>624.02</td>\n",
       "      <td>NaN</td>\n",
       "      <td>80425.85</td>\n",
       "      <td>80425.85</td>\n",
       "      <td>2011</td>\n",
       "      <td>NaN</td>\n",
       "      <td>San Francisco</td>\n",
       "      <td>NaN</td>\n",
       "    </tr>\n",
       "    <tr>\n",
       "      <th>31335</th>\n",
       "      <td>31336</td>\n",
       "      <td>HENRY XE</td>\n",
       "      <td>PUBLIC SERVICE AIDE-SPECIAL PROGRAMS</td>\n",
       "      <td>10901.00</td>\n",
       "      <td>0.00</td>\n",
       "      <td>0.00</td>\n",
       "      <td>NaN</td>\n",
       "      <td>10901.00</td>\n",
       "      <td>10901.00</td>\n",
       "      <td>2011</td>\n",
       "      <td>NaN</td>\n",
       "      <td>San Francisco</td>\n",
       "      <td>NaN</td>\n",
       "    </tr>\n",
       "    <tr>\n",
       "      <th>75351</th>\n",
       "      <td>75352</td>\n",
       "      <td>Godfrey G Lew</td>\n",
       "      <td>Electronic Maintenance Tech</td>\n",
       "      <td>105513.50</td>\n",
       "      <td>54462.77</td>\n",
       "      <td>10656.55</td>\n",
       "      <td>36541.85</td>\n",
       "      <td>170632.82</td>\n",
       "      <td>207174.67</td>\n",
       "      <td>2013</td>\n",
       "      <td>NaN</td>\n",
       "      <td>San Francisco</td>\n",
       "      <td>NaN</td>\n",
       "    </tr>\n",
       "    <tr>\n",
       "      <th>7990</th>\n",
       "      <td>7991</td>\n",
       "      <td>DAVID CAMERLO JR</td>\n",
       "      <td>ELECTRICAL LINE WORKER</td>\n",
       "      <td>83711.40</td>\n",
       "      <td>20522.04</td>\n",
       "      <td>2988.34</td>\n",
       "      <td>NaN</td>\n",
       "      <td>107221.78</td>\n",
       "      <td>107221.78</td>\n",
       "      <td>2011</td>\n",
       "      <td>NaN</td>\n",
       "      <td>San Francisco</td>\n",
       "      <td>NaN</td>\n",
       "    </tr>\n",
       "  </tbody>\n",
       "</table>\n",
       "</div>"
      ],
      "text/plain": [
       "          Id      EmployeeName                                    JobTitle  \\\n",
       "28059  28060    SPENCER ROHRER                                LIBRARY PAGE   \n",
       "14318  14319      JESSICA COLE  INVESTIGATOR, OFFICE OF CITIZEN COMPLAINTS   \n",
       "31335  31336          HENRY XE        PUBLIC SERVICE AIDE-SPECIAL PROGRAMS   \n",
       "75351  75352     Godfrey G Lew                 Electronic Maintenance Tech   \n",
       "7990    7991  DAVID CAMERLO JR                      ELECTRICAL LINE WORKER   \n",
       "\n",
       "         BasePay  OvertimePay  OtherPay  Benefits   TotalPay  \\\n",
       "28059   29025.47         0.00    522.78       NaN   29548.25   \n",
       "14318   79801.83         0.00    624.02       NaN   80425.85   \n",
       "31335   10901.00         0.00      0.00       NaN   10901.00   \n",
       "75351  105513.50     54462.77  10656.55  36541.85  170632.82   \n",
       "7990    83711.40     20522.04   2988.34       NaN  107221.78   \n",
       "\n",
       "       TotalPayBenefits  Year  Notes         Agency  Status  \n",
       "28059          29548.25  2011    NaN  San Francisco     NaN  \n",
       "14318          80425.85  2011    NaN  San Francisco     NaN  \n",
       "31335          10901.00  2011    NaN  San Francisco     NaN  \n",
       "75351         207174.67  2013    NaN  San Francisco     NaN  \n",
       "7990          107221.78  2011    NaN  San Francisco     NaN  "
      ]
     },
     "execution_count": 4,
     "metadata": {},
     "output_type": "execute_result"
    }
   ],
   "source": [
    "# Fix the error\n",
    "sal.sample(5)"
   ]
  },
  {
   "cell_type": "code",
   "execution_count": null,
   "metadata": {
    "colab": {},
    "colab_type": "code",
    "id": "AQ25O59kPm0d"
   },
   "outputs": [],
   "source": [
    "# Fix the error\n",
    "sal.info()"
   ]
  },
  {
   "cell_type": "code",
   "execution_count": null,
   "metadata": {
    "colab": {},
    "colab_type": "code",
    "id": "oL4V7oDyPm0h"
   },
   "outputs": [],
   "source": [
    "# Fix the error\n",
    "sal.describe()"
   ]
  },
  {
   "cell_type": "markdown",
   "metadata": {
    "colab_type": "text",
    "id": "wY6yv3UsPm0k"
   },
   "source": [
    "### Step 3 - Cleaning the data\n",
    "\n",
    "Few of useful data cleaning functions:\n",
    "\n",
    "* `s.astype('category')` # This will convert the datatype of the series to float *Please note that \"s\" here is a Pandas Series\n",
    "\n",
    "* `s.replace(1,'one')` # This will replace all values equal to 1 with 'one'\n",
    "\n",
    "* `s.replace([1,3],['one','three'])` # This will replace all 1 with 'one' and 3 with 'three'\n",
    "\n",
    "* `data.rename(columns=lambda x: x + 1)` # Mass renaming of columns\n",
    "\n",
    "* `data.rename(columns={'oldname': 'new name'})` # Selective renaming\n",
    "\n",
    "* `data.set_index('column_one')` #  This will change the index\n",
    "\n",
    "* `data.rename(index=lambda x: x + 1)` # Mass renaming of index\n",
    "\n",
    "* `data.dropna()` # Remove missing values\n",
    "\n",
    "* `data.fillna(x)` #  This will replaces all null values with x\n",
    "\n",
    "* `s.fillna(s.mean())` # This will replace all null values with the mean (mean can be replaced with almost any function from the below section) :\n",
    "\n",
    "* `data.corr()` # This will return the correlation between columns in a DataFrame\n",
    "\n",
    "* `data.count()` # This will return the number of non-null values in each DataFrame column\n",
    "\n",
    "* `data.max()` # This will return the highest value in each column\n",
    "\n",
    "* `data.min()` # This will return the lowest value in each column\n",
    "\n",
    "* `data.median()` # This will return the median of each column\n",
    "\n",
    "* `data.std()` # This will returns the standard deviation of each column\n"
   ]
  },
  {
   "cell_type": "markdown",
   "metadata": {
    "colab_type": "text",
    "id": "e5NuNcPscq9x"
   },
   "source": [
    "**Check duplication in columns in which the data must be unique**"
   ]
  },
  {
   "cell_type": "code",
   "execution_count": 5,
   "metadata": {
    "colab": {},
    "colab_type": "code",
    "id": "GPIDpsygPm0l"
   },
   "outputs": [
    {
     "data": {
      "text/plain": [
       "True"
      ]
     },
     "execution_count": 5,
     "metadata": {},
     "output_type": "execute_result"
    }
   ],
   "source": [
    "# Id must be unique\n",
    "# So the number of unique values must be equal the number of rows\n",
    "# Fill the blanks\n",
    "len(sal['Id'].unique()) == sal.shape[0]"
   ]
  },
  {
   "cell_type": "markdown",
   "metadata": {
    "colab_type": "text",
    "id": "1cmMLYR5fsGl"
   },
   "source": [
    "**Change the type to category**"
   ]
  },
  {
   "cell_type": "code",
   "execution_count": 6,
   "metadata": {
    "colab": {},
    "colab_type": "code",
    "id": "LtaeNb4yPm0p"
   },
   "outputs": [
    {
     "data": {
      "text/plain": [
       "0         2011\n",
       "1         2011\n",
       "2         2011\n",
       "3         2011\n",
       "4         2011\n",
       "          ... \n",
       "148649    2014\n",
       "148650    2014\n",
       "148651    2014\n",
       "148652    2014\n",
       "148653    2014\n",
       "Name: Year, Length: 148654, dtype: category\n",
       "Categories (4, int64): [2011, 2012, 2013, 2014]"
      ]
     },
     "execution_count": 6,
     "metadata": {},
     "output_type": "execute_result"
    }
   ],
   "source": [
    "sal['Id'] = sal['Id'].astype('category')\n",
    "\n",
    "# Change Year to be a categorical variable too\n",
    "# Your code here\n",
    "\n",
    "sal['Year'] = sal['Year'].astype('category')\n",
    "sal['Year']"
   ]
  },
  {
   "cell_type": "code",
   "execution_count": 8,
   "metadata": {},
   "outputs": [
    {
     "name": "stdout",
     "output_type": "stream",
     "text": [
      "<class 'pandas.core.frame.DataFrame'>\n",
      "RangeIndex: 148654 entries, 0 to 148653\n",
      "Data columns (total 11 columns):\n",
      "Id                  148654 non-null category\n",
      "EmployeeName        148654 non-null object\n",
      "JobTitle            148654 non-null object\n",
      "BasePay             148045 non-null float64\n",
      "OvertimePay         148650 non-null float64\n",
      "OtherPay            148650 non-null float64\n",
      "Benefits            112491 non-null float64\n",
      "TotalPay            148654 non-null float64\n",
      "TotalPayBenefits    148654 non-null float64\n",
      "Year                148654 non-null category\n",
      "Agency              148654 non-null object\n",
      "dtypes: category(2), float64(6), object(3)\n",
      "memory usage: 17.1+ MB\n"
     ]
    }
   ],
   "source": [
    "sal.info()"
   ]
  },
  {
   "cell_type": "markdown",
   "metadata": {
    "colab_type": "text",
    "id": "VSVoX1K3Pm0s"
   },
   "source": [
    "**Drop unnecessary columns**"
   ]
  },
  {
   "cell_type": "code",
   "execution_count": 7,
   "metadata": {
    "colab": {},
    "colab_type": "code",
    "id": "RHV8TMa1Pm0t"
   },
   "outputs": [],
   "source": [
    "# Look at the info() again, which columns you can drop immediately?\n",
    "# Fill the blanks\n",
    "\n",
    "sal.drop(columns=['Notes', 'Status'], inplace=True)\n",
    "#sal.dropna(axis=1, how=\"all\", inplace=True)"
   ]
  },
  {
   "cell_type": "code",
   "execution_count": 77,
   "metadata": {
    "colab": {},
    "colab_type": "code",
    "id": "xCvrYvQMPm0w"
   },
   "outputs": [],
   "source": [
    "# Are there any other columns that don't bring us much information?\n",
    "# Drop them coldbloodedly\n",
    "# Your code here\n",
    "sal.drop(columns=[\"Agency\"], inplace=True)"
   ]
  },
  {
   "cell_type": "code",
   "execution_count": null,
   "metadata": {
    "colab": {},
    "colab_type": "code",
    "id": "-Aykt_CoPm02"
   },
   "outputs": [],
   "source": [
    "# Check again with info()\n",
    "# Your code here\n",
    "sal.info()"
   ]
  },
  {
   "cell_type": "markdown",
   "metadata": {
    "colab_type": "text",
    "id": "rcNsGWarPm06"
   },
   "source": [
    "**Check for NaN values**"
   ]
  },
  {
   "cell_type": "code",
   "execution_count": 9,
   "metadata": {
    "colab": {},
    "colab_type": "code",
    "id": "TqLxHGy2Pm06",
    "outputId": "bfbd881f-74a6-44aa-8f95-9ace2fea2902"
   },
   "outputs": [
    {
     "data": {
      "text/plain": [
       "Id                      0\n",
       "EmployeeName            0\n",
       "JobTitle                0\n",
       "BasePay               609\n",
       "OvertimePay             4\n",
       "OtherPay                4\n",
       "Benefits            36163\n",
       "TotalPay                0\n",
       "TotalPayBenefits        0\n",
       "Year                    0\n",
       "Agency                  0\n",
       "dtype: int64"
      ]
     },
     "execution_count": 9,
     "metadata": {},
     "output_type": "execute_result"
    }
   ],
   "source": [
    "# Fill the blank\n",
    "sal.isnull().sum()"
   ]
  },
  {
   "cell_type": "markdown",
   "metadata": {
    "colab_type": "text",
    "id": "RdhPk_x1Pm0-"
   },
   "source": [
    "**Examine few examples of NaN values**"
   ]
  },
  {
   "cell_type": "code",
   "execution_count": 10,
   "metadata": {
    "colab": {},
    "colab_type": "code",
    "id": "3kGYpbdOPm0-",
    "outputId": "d0495bb5-2fdf-4027-fb8f-21a973457529"
   },
   "outputs": [
    {
     "data": {
      "text/html": [
       "<div>\n",
       "<style scoped>\n",
       "    .dataframe tbody tr th:only-of-type {\n",
       "        vertical-align: middle;\n",
       "    }\n",
       "\n",
       "    .dataframe tbody tr th {\n",
       "        vertical-align: top;\n",
       "    }\n",
       "\n",
       "    .dataframe thead th {\n",
       "        text-align: right;\n",
       "    }\n",
       "</style>\n",
       "<table border=\"1\" class=\"dataframe\">\n",
       "  <thead>\n",
       "    <tr style=\"text-align: right;\">\n",
       "      <th></th>\n",
       "      <th>Id</th>\n",
       "      <th>EmployeeName</th>\n",
       "      <th>JobTitle</th>\n",
       "      <th>BasePay</th>\n",
       "      <th>OvertimePay</th>\n",
       "      <th>OtherPay</th>\n",
       "      <th>Benefits</th>\n",
       "      <th>TotalPay</th>\n",
       "      <th>TotalPayBenefits</th>\n",
       "      <th>Year</th>\n",
       "      <th>Agency</th>\n",
       "    </tr>\n",
       "  </thead>\n",
       "  <tbody>\n",
       "    <tr>\n",
       "      <th>148646</th>\n",
       "      <td>148647</td>\n",
       "      <td>Not provided</td>\n",
       "      <td>Not provided</td>\n",
       "      <td>NaN</td>\n",
       "      <td>NaN</td>\n",
       "      <td>NaN</td>\n",
       "      <td>NaN</td>\n",
       "      <td>0.0</td>\n",
       "      <td>0.0</td>\n",
       "      <td>2014</td>\n",
       "      <td>San Francisco</td>\n",
       "    </tr>\n",
       "    <tr>\n",
       "      <th>148650</th>\n",
       "      <td>148651</td>\n",
       "      <td>Not provided</td>\n",
       "      <td>Not provided</td>\n",
       "      <td>NaN</td>\n",
       "      <td>NaN</td>\n",
       "      <td>NaN</td>\n",
       "      <td>NaN</td>\n",
       "      <td>0.0</td>\n",
       "      <td>0.0</td>\n",
       "      <td>2014</td>\n",
       "      <td>San Francisco</td>\n",
       "    </tr>\n",
       "    <tr>\n",
       "      <th>148651</th>\n",
       "      <td>148652</td>\n",
       "      <td>Not provided</td>\n",
       "      <td>Not provided</td>\n",
       "      <td>NaN</td>\n",
       "      <td>NaN</td>\n",
       "      <td>NaN</td>\n",
       "      <td>NaN</td>\n",
       "      <td>0.0</td>\n",
       "      <td>0.0</td>\n",
       "      <td>2014</td>\n",
       "      <td>San Francisco</td>\n",
       "    </tr>\n",
       "    <tr>\n",
       "      <th>148652</th>\n",
       "      <td>148653</td>\n",
       "      <td>Not provided</td>\n",
       "      <td>Not provided</td>\n",
       "      <td>NaN</td>\n",
       "      <td>NaN</td>\n",
       "      <td>NaN</td>\n",
       "      <td>NaN</td>\n",
       "      <td>0.0</td>\n",
       "      <td>0.0</td>\n",
       "      <td>2014</td>\n",
       "      <td>San Francisco</td>\n",
       "    </tr>\n",
       "  </tbody>\n",
       "</table>\n",
       "</div>"
      ],
      "text/plain": [
       "            Id  EmployeeName      JobTitle  BasePay  OvertimePay  OtherPay  \\\n",
       "148646  148647  Not provided  Not provided      NaN          NaN       NaN   \n",
       "148650  148651  Not provided  Not provided      NaN          NaN       NaN   \n",
       "148651  148652  Not provided  Not provided      NaN          NaN       NaN   \n",
       "148652  148653  Not provided  Not provided      NaN          NaN       NaN   \n",
       "\n",
       "        Benefits  TotalPay  TotalPayBenefits  Year         Agency  \n",
       "148646       NaN       0.0               0.0  2014  San Francisco  \n",
       "148650       NaN       0.0               0.0  2014  San Francisco  \n",
       "148651       NaN       0.0               0.0  2014  San Francisco  \n",
       "148652       NaN       0.0               0.0  2014  San Francisco  "
      ]
     },
     "execution_count": 10,
     "metadata": {},
     "output_type": "execute_result"
    }
   ],
   "source": [
    "# List all NaN values of OtherPay\n",
    "# Fill the blanks\n",
    "sal[sal['OtherPay'].isnull()]"
   ]
  },
  {
   "cell_type": "markdown",
   "metadata": {
    "colab_type": "text",
    "id": "pNv3autOjiFj"
   },
   "source": [
    "**Drop missing values of OtherPay and OvertimePay**"
   ]
  },
  {
   "cell_type": "code",
   "execution_count": 11,
   "metadata": {
    "colab": {},
    "colab_type": "code",
    "id": "ZDgbdnlhPm1C"
   },
   "outputs": [],
   "source": [
    "# Option 1\n",
    "# sal.drop(labels=[148646, 148650, 148651, 148652], axis=0)\n",
    "\n",
    "# Something cooler\n",
    "# Solution: Select data that OtherPay is not null and assign it to the dataframe 'sal'\n",
    "# Your code here\n",
    "sal = sal[sal[\"OtherPay\"].notna()]\n",
    "sal = sal[sal[\"OvertimePay\"].notna()]\n"
   ]
  },
  {
   "cell_type": "markdown",
   "metadata": {
    "colab_type": "text",
    "id": "E8C8-rJ6kb5A"
   },
   "source": [
    "**Analize missing values of BasePay and Benefits**"
   ]
  },
  {
   "cell_type": "code",
   "execution_count": 78,
   "metadata": {
    "colab": {},
    "colab_type": "code",
    "id": "auarSm-bPm1G",
    "outputId": "4e3fa729-1a17-4ed8-93b1-79b0d1e4765e"
   },
   "outputs": [
    {
     "ename": "ValueError",
     "evalue": "a must be greater than 0",
     "output_type": "error",
     "traceback": [
      "\u001b[1;31m---------------------------------------------------------------------------\u001b[0m",
      "\u001b[1;31mValueError\u001b[0m                                Traceback (most recent call last)",
      "\u001b[1;32m<ipython-input-78-a97dc68fcc01>\u001b[0m in \u001b[0;36m<module>\u001b[1;34m\u001b[0m\n\u001b[0;32m      1\u001b[0m \u001b[1;31m# Select 5 sample of data that BasePay is null\u001b[0m\u001b[1;33m\u001b[0m\u001b[1;33m\u001b[0m\u001b[0m\n\u001b[0;32m      2\u001b[0m \u001b[1;31m# Your code here\u001b[0m\u001b[1;33m\u001b[0m\u001b[1;33m\u001b[0m\u001b[0m\n\u001b[1;32m----> 3\u001b[1;33m \u001b[0msal\u001b[0m\u001b[1;33m[\u001b[0m\u001b[0msal\u001b[0m\u001b[1;33m[\u001b[0m\u001b[1;34m\"BasePay\"\u001b[0m\u001b[1;33m]\u001b[0m\u001b[1;33m.\u001b[0m\u001b[0misnull\u001b[0m\u001b[1;33m(\u001b[0m\u001b[1;33m)\u001b[0m\u001b[1;33m]\u001b[0m\u001b[1;33m.\u001b[0m\u001b[0msample\u001b[0m\u001b[1;33m(\u001b[0m\u001b[1;36m5\u001b[0m\u001b[1;33m)\u001b[0m\u001b[1;33m\u001b[0m\u001b[0m\n\u001b[0m",
      "\u001b[1;32mc:\\users\\huy\\appdata\\local\\programs\\python\\python36\\lib\\site-packages\\pandas\\core\\generic.py\u001b[0m in \u001b[0;36msample\u001b[1;34m(self, n, frac, replace, weights, random_state, axis)\u001b[0m\n\u001b[0;32m   4969\u001b[0m             )\n\u001b[0;32m   4970\u001b[0m \u001b[1;33m\u001b[0m\u001b[0m\n\u001b[1;32m-> 4971\u001b[1;33m         \u001b[0mlocs\u001b[0m \u001b[1;33m=\u001b[0m \u001b[0mrs\u001b[0m\u001b[1;33m.\u001b[0m\u001b[0mchoice\u001b[0m\u001b[1;33m(\u001b[0m\u001b[0maxis_length\u001b[0m\u001b[1;33m,\u001b[0m \u001b[0msize\u001b[0m\u001b[1;33m=\u001b[0m\u001b[0mn\u001b[0m\u001b[1;33m,\u001b[0m \u001b[0mreplace\u001b[0m\u001b[1;33m=\u001b[0m\u001b[0mreplace\u001b[0m\u001b[1;33m,\u001b[0m \u001b[0mp\u001b[0m\u001b[1;33m=\u001b[0m\u001b[0mweights\u001b[0m\u001b[1;33m)\u001b[0m\u001b[1;33m\u001b[0m\u001b[0m\n\u001b[0m\u001b[0;32m   4972\u001b[0m         \u001b[1;32mreturn\u001b[0m \u001b[0mself\u001b[0m\u001b[1;33m.\u001b[0m\u001b[0mtake\u001b[0m\u001b[1;33m(\u001b[0m\u001b[0mlocs\u001b[0m\u001b[1;33m,\u001b[0m \u001b[0maxis\u001b[0m\u001b[1;33m=\u001b[0m\u001b[0maxis\u001b[0m\u001b[1;33m,\u001b[0m \u001b[0mis_copy\u001b[0m\u001b[1;33m=\u001b[0m\u001b[1;32mFalse\u001b[0m\u001b[1;33m)\u001b[0m\u001b[1;33m\u001b[0m\u001b[0m\n\u001b[0;32m   4973\u001b[0m \u001b[1;33m\u001b[0m\u001b[0m\n",
      "\u001b[1;32mmtrand.pyx\u001b[0m in \u001b[0;36mmtrand.RandomState.choice\u001b[1;34m()\u001b[0m\n",
      "\u001b[1;31mValueError\u001b[0m: a must be greater than 0"
     ]
    }
   ],
   "source": [
    "# Select 5 sample of data that BasePay is null\n",
    "# Your code here\n",
    "sal[sal[\"BasePay\"].isnull()].sample(5)"
   ]
  },
  {
   "cell_type": "markdown",
   "metadata": {
    "colab_type": "text",
    "id": "LI8UuvPePm1J"
   },
   "source": [
    "**For BasePay and Benefits, it is clear that NaN values are zeroes (from TotalPay and TotalPayBenefits).**\n",
    "\n",
    "**So, simply fill NaN values with 0**"
   ]
  },
  {
   "cell_type": "code",
   "execution_count": 13,
   "metadata": {
    "colab": {},
    "colab_type": "code",
    "id": "weJT0fK1Pm1K"
   },
   "outputs": [],
   "source": [
    "# Fill the blanks\n",
    "sal['Benefits'].fillna(value=0, inplace=True)"
   ]
  },
  {
   "cell_type": "code",
   "execution_count": 14,
   "metadata": {
    "colab": {},
    "colab_type": "code",
    "id": "CtY8mxaJPm1N"
   },
   "outputs": [],
   "source": [
    "# Fill the blanks\n",
    "sal['BasePay'].fillna(value=0,inplace=True)"
   ]
  },
  {
   "cell_type": "code",
   "execution_count": 19,
   "metadata": {
    "colab": {},
    "colab_type": "code",
    "id": "6r011Nm-Pm1Q",
    "outputId": "069409cd-f132-4746-fdcc-4a4a20d7098a"
   },
   "outputs": [
    {
     "data": {
      "text/html": [
       "<div>\n",
       "<style scoped>\n",
       "    .dataframe tbody tr th:only-of-type {\n",
       "        vertical-align: middle;\n",
       "    }\n",
       "\n",
       "    .dataframe tbody tr th {\n",
       "        vertical-align: top;\n",
       "    }\n",
       "\n",
       "    .dataframe thead th {\n",
       "        text-align: right;\n",
       "    }\n",
       "</style>\n",
       "<table border=\"1\" class=\"dataframe\">\n",
       "  <thead>\n",
       "    <tr style=\"text-align: right;\">\n",
       "      <th></th>\n",
       "      <th>Id</th>\n",
       "      <th>EmployeeName</th>\n",
       "      <th>JobTitle</th>\n",
       "      <th>BasePay</th>\n",
       "      <th>OvertimePay</th>\n",
       "      <th>OtherPay</th>\n",
       "      <th>Benefits</th>\n",
       "      <th>TotalPay</th>\n",
       "      <th>TotalPayBenefits</th>\n",
       "      <th>Year</th>\n",
       "      <th>Agency</th>\n",
       "    </tr>\n",
       "  </thead>\n",
       "  <tbody>\n",
       "  </tbody>\n",
       "</table>\n",
       "</div>"
      ],
      "text/plain": [
       "Empty DataFrame\n",
       "Columns: [Id, EmployeeName, JobTitle, BasePay, OvertimePay, OtherPay, Benefits, TotalPay, TotalPayBenefits, Year, Agency]\n",
       "Index: []"
      ]
     },
     "execution_count": 19,
     "metadata": {},
     "output_type": "execute_result"
    }
   ],
   "source": [
    "# Let check for NaN values again\n",
    "# Your code heresal\n",
    "sal[sal[\"BasePay\"].isnull()]"
   ]
  },
  {
   "cell_type": "code",
   "execution_count": 22,
   "metadata": {},
   "outputs": [
    {
     "data": {
      "text/html": [
       "<div>\n",
       "<style scoped>\n",
       "    .dataframe tbody tr th:only-of-type {\n",
       "        vertical-align: middle;\n",
       "    }\n",
       "\n",
       "    .dataframe tbody tr th {\n",
       "        vertical-align: top;\n",
       "    }\n",
       "\n",
       "    .dataframe thead th {\n",
       "        text-align: right;\n",
       "    }\n",
       "</style>\n",
       "<table border=\"1\" class=\"dataframe\">\n",
       "  <thead>\n",
       "    <tr style=\"text-align: right;\">\n",
       "      <th></th>\n",
       "      <th>Id</th>\n",
       "      <th>EmployeeName</th>\n",
       "      <th>JobTitle</th>\n",
       "      <th>BasePay</th>\n",
       "      <th>OvertimePay</th>\n",
       "      <th>OtherPay</th>\n",
       "      <th>Benefits</th>\n",
       "      <th>TotalPay</th>\n",
       "      <th>TotalPayBenefits</th>\n",
       "      <th>Year</th>\n",
       "      <th>Agency</th>\n",
       "    </tr>\n",
       "  </thead>\n",
       "  <tbody>\n",
       "  </tbody>\n",
       "</table>\n",
       "</div>"
      ],
      "text/plain": [
       "Empty DataFrame\n",
       "Columns: [Id, EmployeeName, JobTitle, BasePay, OvertimePay, OtherPay, Benefits, TotalPay, TotalPayBenefits, Year, Agency]\n",
       "Index: []"
      ]
     },
     "execution_count": 22,
     "metadata": {},
     "output_type": "execute_result"
    }
   ],
   "source": [
    "sal[sal[\"Benefits\"].isnull()]"
   ]
  },
  {
   "cell_type": "markdown",
   "metadata": {
    "colab_type": "text",
    "id": "4OJQFuzhPm1T"
   },
   "source": [
    "**Min values of some payments are negative. Let's check it out**"
   ]
  },
  {
   "cell_type": "code",
   "execution_count": 35,
   "metadata": {
    "colab": {},
    "colab_type": "code",
    "id": "DS8XEj1UPm1U",
    "outputId": "d988d6d2-3938-4f7c-ae65-03f2c5d85b44"
   },
   "outputs": [
    {
     "data": {
      "text/plain": [
       "148653   -618.13\n",
       "110530    -33.89\n",
       "110529     -8.20\n",
       "110528     -2.73\n",
       "36158       0.00\n",
       "Name: TotalPayBenefits, dtype: float64"
      ]
     },
     "execution_count": 35,
     "metadata": {},
     "output_type": "execute_result"
    }
   ],
   "source": [
    "# Select data that has negative TotalPay or TotalPayBenefits\n",
    "sal[\"TotalPayBenefits\"].sort_values().head()"
   ]
  },
  {
   "cell_type": "code",
   "execution_count": 36,
   "metadata": {},
   "outputs": [
    {
     "data": {
      "text/plain": [
       "148653   -618.13\n",
       "106797      0.00\n",
       "106798      0.00\n",
       "106799      0.00\n",
       "106800      0.00\n",
       "Name: TotalPay, dtype: float64"
      ]
     },
     "execution_count": 36,
     "metadata": {},
     "output_type": "execute_result"
    }
   ],
   "source": [
    "sal[\"TotalPay\"].sort_values().head()"
   ]
  },
  {
   "cell_type": "markdown",
   "metadata": {
    "colab_type": "text",
    "id": "9w7-ugL0mQPC"
   },
   "source": [
    "**There are only 4 of them, we can safely drop these data**"
   ]
  },
  {
   "cell_type": "code",
   "execution_count": 45,
   "metadata": {
    "colab": {},
    "colab_type": "code",
    "id": "2SfJWB9qPm1X"
   },
   "outputs": [
    {
     "ename": "KeyError",
     "evalue": "'[148653 110530 110529 110528 148653] not found in axis'",
     "output_type": "error",
     "traceback": [
      "\u001b[1;31m---------------------------------------------------------------------------\u001b[0m",
      "\u001b[1;31mKeyError\u001b[0m                                  Traceback (most recent call last)",
      "\u001b[1;32m<ipython-input-45-ba3527e4e3eb>\u001b[0m in \u001b[0;36m<module>\u001b[1;34m\u001b[0m\n\u001b[0;32m      1\u001b[0m \u001b[1;31m# Your code here\u001b[0m\u001b[1;33m\u001b[0m\u001b[1;33m\u001b[0m\u001b[0m\n\u001b[1;32m----> 2\u001b[1;33m \u001b[0msal\u001b[0m \u001b[1;33m=\u001b[0m \u001b[0msal\u001b[0m\u001b[1;33m.\u001b[0m\u001b[0mdrop\u001b[0m\u001b[1;33m(\u001b[0m\u001b[0mlabels\u001b[0m\u001b[1;33m=\u001b[0m\u001b[1;33m[\u001b[0m\u001b[1;36m148653\u001b[0m\u001b[1;33m,\u001b[0m \u001b[1;36m110530\u001b[0m\u001b[1;33m,\u001b[0m \u001b[1;36m110529\u001b[0m\u001b[1;33m,\u001b[0m \u001b[1;36m110528\u001b[0m\u001b[1;33m,\u001b[0m \u001b[1;36m148653\u001b[0m\u001b[1;33m]\u001b[0m\u001b[1;33m,\u001b[0m \u001b[0maxis\u001b[0m\u001b[1;33m=\u001b[0m\u001b[1;36m0\u001b[0m\u001b[1;33m)\u001b[0m\u001b[1;33m\u001b[0m\u001b[0m\n\u001b[0m",
      "\u001b[1;32mc:\\users\\huy\\appdata\\local\\programs\\python\\python36\\lib\\site-packages\\pandas\\core\\frame.py\u001b[0m in \u001b[0;36mdrop\u001b[1;34m(self, labels, axis, index, columns, level, inplace, errors)\u001b[0m\n\u001b[0;32m   4095\u001b[0m             \u001b[0mlevel\u001b[0m\u001b[1;33m=\u001b[0m\u001b[0mlevel\u001b[0m\u001b[1;33m,\u001b[0m\u001b[1;33m\u001b[0m\u001b[0m\n\u001b[0;32m   4096\u001b[0m             \u001b[0minplace\u001b[0m\u001b[1;33m=\u001b[0m\u001b[0minplace\u001b[0m\u001b[1;33m,\u001b[0m\u001b[1;33m\u001b[0m\u001b[0m\n\u001b[1;32m-> 4097\u001b[1;33m             \u001b[0merrors\u001b[0m\u001b[1;33m=\u001b[0m\u001b[0merrors\u001b[0m\u001b[1;33m,\u001b[0m\u001b[1;33m\u001b[0m\u001b[0m\n\u001b[0m\u001b[0;32m   4098\u001b[0m         )\n\u001b[0;32m   4099\u001b[0m \u001b[1;33m\u001b[0m\u001b[0m\n",
      "\u001b[1;32mc:\\users\\huy\\appdata\\local\\programs\\python\\python36\\lib\\site-packages\\pandas\\core\\generic.py\u001b[0m in \u001b[0;36mdrop\u001b[1;34m(self, labels, axis, index, columns, level, inplace, errors)\u001b[0m\n\u001b[0;32m   3913\u001b[0m         \u001b[1;32mfor\u001b[0m \u001b[0maxis\u001b[0m\u001b[1;33m,\u001b[0m \u001b[0mlabels\u001b[0m \u001b[1;32min\u001b[0m \u001b[0maxes\u001b[0m\u001b[1;33m.\u001b[0m\u001b[0mitems\u001b[0m\u001b[1;33m(\u001b[0m\u001b[1;33m)\u001b[0m\u001b[1;33m:\u001b[0m\u001b[1;33m\u001b[0m\u001b[0m\n\u001b[0;32m   3914\u001b[0m             \u001b[1;32mif\u001b[0m \u001b[0mlabels\u001b[0m \u001b[1;32mis\u001b[0m \u001b[1;32mnot\u001b[0m \u001b[1;32mNone\u001b[0m\u001b[1;33m:\u001b[0m\u001b[1;33m\u001b[0m\u001b[0m\n\u001b[1;32m-> 3915\u001b[1;33m                 \u001b[0mobj\u001b[0m \u001b[1;33m=\u001b[0m \u001b[0mobj\u001b[0m\u001b[1;33m.\u001b[0m\u001b[0m_drop_axis\u001b[0m\u001b[1;33m(\u001b[0m\u001b[0mlabels\u001b[0m\u001b[1;33m,\u001b[0m \u001b[0maxis\u001b[0m\u001b[1;33m,\u001b[0m \u001b[0mlevel\u001b[0m\u001b[1;33m=\u001b[0m\u001b[0mlevel\u001b[0m\u001b[1;33m,\u001b[0m \u001b[0merrors\u001b[0m\u001b[1;33m=\u001b[0m\u001b[0merrors\u001b[0m\u001b[1;33m)\u001b[0m\u001b[1;33m\u001b[0m\u001b[0m\n\u001b[0m\u001b[0;32m   3916\u001b[0m \u001b[1;33m\u001b[0m\u001b[0m\n\u001b[0;32m   3917\u001b[0m         \u001b[1;32mif\u001b[0m \u001b[0minplace\u001b[0m\u001b[1;33m:\u001b[0m\u001b[1;33m\u001b[0m\u001b[0m\n",
      "\u001b[1;32mc:\\users\\huy\\appdata\\local\\programs\\python\\python36\\lib\\site-packages\\pandas\\core\\generic.py\u001b[0m in \u001b[0;36m_drop_axis\u001b[1;34m(self, labels, axis, level, errors)\u001b[0m\n\u001b[0;32m   3945\u001b[0m                 \u001b[0mnew_axis\u001b[0m \u001b[1;33m=\u001b[0m \u001b[0maxis\u001b[0m\u001b[1;33m.\u001b[0m\u001b[0mdrop\u001b[0m\u001b[1;33m(\u001b[0m\u001b[0mlabels\u001b[0m\u001b[1;33m,\u001b[0m \u001b[0mlevel\u001b[0m\u001b[1;33m=\u001b[0m\u001b[0mlevel\u001b[0m\u001b[1;33m,\u001b[0m \u001b[0merrors\u001b[0m\u001b[1;33m=\u001b[0m\u001b[0merrors\u001b[0m\u001b[1;33m)\u001b[0m\u001b[1;33m\u001b[0m\u001b[0m\n\u001b[0;32m   3946\u001b[0m             \u001b[1;32melse\u001b[0m\u001b[1;33m:\u001b[0m\u001b[1;33m\u001b[0m\u001b[0m\n\u001b[1;32m-> 3947\u001b[1;33m                 \u001b[0mnew_axis\u001b[0m \u001b[1;33m=\u001b[0m \u001b[0maxis\u001b[0m\u001b[1;33m.\u001b[0m\u001b[0mdrop\u001b[0m\u001b[1;33m(\u001b[0m\u001b[0mlabels\u001b[0m\u001b[1;33m,\u001b[0m \u001b[0merrors\u001b[0m\u001b[1;33m=\u001b[0m\u001b[0merrors\u001b[0m\u001b[1;33m)\u001b[0m\u001b[1;33m\u001b[0m\u001b[0m\n\u001b[0m\u001b[0;32m   3948\u001b[0m             \u001b[0mresult\u001b[0m \u001b[1;33m=\u001b[0m \u001b[0mself\u001b[0m\u001b[1;33m.\u001b[0m\u001b[0mreindex\u001b[0m\u001b[1;33m(\u001b[0m\u001b[1;33m**\u001b[0m\u001b[1;33m{\u001b[0m\u001b[0maxis_name\u001b[0m\u001b[1;33m:\u001b[0m \u001b[0mnew_axis\u001b[0m\u001b[1;33m}\u001b[0m\u001b[1;33m)\u001b[0m\u001b[1;33m\u001b[0m\u001b[0m\n\u001b[0;32m   3949\u001b[0m \u001b[1;33m\u001b[0m\u001b[0m\n",
      "\u001b[1;32mc:\\users\\huy\\appdata\\local\\programs\\python\\python36\\lib\\site-packages\\pandas\\core\\indexes\\base.py\u001b[0m in \u001b[0;36mdrop\u001b[1;34m(self, labels, errors)\u001b[0m\n\u001b[0;32m   5331\u001b[0m         \u001b[1;32mif\u001b[0m \u001b[0mmask\u001b[0m\u001b[1;33m.\u001b[0m\u001b[0many\u001b[0m\u001b[1;33m(\u001b[0m\u001b[1;33m)\u001b[0m\u001b[1;33m:\u001b[0m\u001b[1;33m\u001b[0m\u001b[0m\n\u001b[0;32m   5332\u001b[0m             \u001b[1;32mif\u001b[0m \u001b[0merrors\u001b[0m \u001b[1;33m!=\u001b[0m \u001b[1;34m\"ignore\"\u001b[0m\u001b[1;33m:\u001b[0m\u001b[1;33m\u001b[0m\u001b[0m\n\u001b[1;32m-> 5333\u001b[1;33m                 \u001b[1;32mraise\u001b[0m \u001b[0mKeyError\u001b[0m\u001b[1;33m(\u001b[0m\u001b[1;34m\"{} not found in axis\"\u001b[0m\u001b[1;33m.\u001b[0m\u001b[0mformat\u001b[0m\u001b[1;33m(\u001b[0m\u001b[0mlabels\u001b[0m\u001b[1;33m[\u001b[0m\u001b[0mmask\u001b[0m\u001b[1;33m]\u001b[0m\u001b[1;33m)\u001b[0m\u001b[1;33m)\u001b[0m\u001b[1;33m\u001b[0m\u001b[0m\n\u001b[0m\u001b[0;32m   5334\u001b[0m             \u001b[0mindexer\u001b[0m \u001b[1;33m=\u001b[0m \u001b[0mindexer\u001b[0m\u001b[1;33m[\u001b[0m\u001b[1;33m~\u001b[0m\u001b[0mmask\u001b[0m\u001b[1;33m]\u001b[0m\u001b[1;33m\u001b[0m\u001b[0m\n\u001b[0;32m   5335\u001b[0m         \u001b[1;32mreturn\u001b[0m \u001b[0mself\u001b[0m\u001b[1;33m.\u001b[0m\u001b[0mdelete\u001b[0m\u001b[1;33m(\u001b[0m\u001b[0mindexer\u001b[0m\u001b[1;33m)\u001b[0m\u001b[1;33m\u001b[0m\u001b[0m\n",
      "\u001b[1;31mKeyError\u001b[0m: '[148653 110530 110529 110528 148653] not found in axis'"
     ]
    }
   ],
   "source": [
    "# Your code here\n",
    "sal = sal.drop(labels=[148653, 110530, 110529, 110528, 148653], axis=0)"
   ]
  },
  {
   "cell_type": "markdown",
   "metadata": {
    "colab_type": "text",
    "id": "mPny_KZsPm1Z"
   },
   "source": [
    "**Identify any errors or miscoding of variables**"
   ]
  },
  {
   "cell_type": "code",
   "execution_count": 55,
   "metadata": {
    "colab": {},
    "colab_type": "code",
    "id": "9K85MLVzPm1Z",
    "outputId": "8f8c03bc-7035-4d05-cf78-627681812af5"
   },
   "outputs": [
    {
     "data": {
      "text/plain": [
       "[2011, 2012, 2013, 2014]\n",
       "Categories (4, int64): [2011, 2012, 2013, 2014]"
      ]
     },
     "execution_count": 55,
     "metadata": {},
     "output_type": "execute_result"
    }
   ],
   "source": [
    "# Check the unique values of Year\n",
    "# Your code here\n",
    "sal[\"Year\"].unique()"
   ]
  },
  {
   "cell_type": "markdown",
   "metadata": {
    "colab_type": "text",
    "id": "c56z5tkKPm1c"
   },
   "source": [
    "Check duplication"
   ]
  },
  {
   "cell_type": "code",
   "execution_count": 50,
   "metadata": {
    "colab": {},
    "colab_type": "code",
    "id": "_JW2GOxIPm1c"
   },
   "outputs": [],
   "source": [
    "# Apply strip() on EmployeeName and Jobtitle \n",
    "# to remove all the leading and trailing spaces\n",
    "# Fill the blanks\n",
    "sal['EmployeeName'] = sal['EmployeeName'].str.strip()\n",
    "sal['JobTitle'] = sal['JobTitle'].str.strip()"
   ]
  },
  {
   "cell_type": "code",
   "execution_count": 60,
   "metadata": {
    "colab": {},
    "colab_type": "code",
    "id": "ZCl0vCkbPm1e",
    "outputId": "daae2c76-f1b6-4979-8d8b-c07d2ba8fe83"
   },
   "outputs": [
    {
     "data": {
      "text/plain": [
       "110806"
      ]
     },
     "execution_count": 60,
     "metadata": {},
     "output_type": "execute_result"
    }
   ],
   "source": [
    "# Check the number of unique value of EmployeeName\n",
    "sal['EmployeeName'].nunique()"
   ]
  },
  {
   "cell_type": "code",
   "execution_count": 63,
   "metadata": {
    "colab": {},
    "colab_type": "code",
    "id": "AjoEmOqOPm1i",
    "outputId": "e269ff67-c569-43d7-d04d-3177bd77e392"
   },
   "outputs": [
    {
     "data": {
      "text/plain": [
       "80455"
      ]
     },
     "execution_count": 63,
     "metadata": {},
     "output_type": "execute_result"
    }
   ],
   "source": [
    "# Check the number of unique value of EmployeeName in lower case\n",
    "# Fill the blanks\n",
    "sal['EmployeeName'].str.lower().nunique()"
   ]
  },
  {
   "cell_type": "code",
   "execution_count": 64,
   "metadata": {
    "colab": {},
    "colab_type": "code",
    "id": "xkHpzbNpPm1l",
    "outputId": "1b23b309-eec6-4477-be02-a2fb21d63371"
   },
   "outputs": [
    {
     "name": "stdout",
     "output_type": "stream",
     "text": [
      "2158\n",
      "1636\n"
     ]
    }
   ],
   "source": [
    "# Do the same with JobTitle\n",
    "# Fill the blank\n",
    "print(sal['JobTitle'].nunique())\n",
    "print(sal['JobTitle'].str.lower().nunique())"
   ]
  },
  {
   "cell_type": "code",
   "execution_count": 76,
   "metadata": {
    "colab": {},
    "colab_type": "code",
    "id": "-JLeksePPm1r",
    "outputId": "fb7ca68b-879b-46da-ca10-8e7fdc224ab9"
   },
   "outputs": [
    {
     "data": {
      "text/html": [
       "<div>\n",
       "<style scoped>\n",
       "    .dataframe tbody tr th:only-of-type {\n",
       "        vertical-align: middle;\n",
       "    }\n",
       "\n",
       "    .dataframe tbody tr th {\n",
       "        vertical-align: top;\n",
       "    }\n",
       "\n",
       "    .dataframe thead th {\n",
       "        text-align: right;\n",
       "    }\n",
       "</style>\n",
       "<table border=\"1\" class=\"dataframe\">\n",
       "  <thead>\n",
       "    <tr style=\"text-align: right;\">\n",
       "      <th></th>\n",
       "      <th>Id</th>\n",
       "      <th>EmployeeName</th>\n",
       "      <th>JobTitle</th>\n",
       "      <th>BasePay</th>\n",
       "      <th>OvertimePay</th>\n",
       "      <th>OtherPay</th>\n",
       "      <th>Benefits</th>\n",
       "      <th>TotalPay</th>\n",
       "      <th>TotalPayBenefits</th>\n",
       "      <th>Year</th>\n",
       "      <th>Agency</th>\n",
       "    </tr>\n",
       "  </thead>\n",
       "  <tbody>\n",
       "    <tr>\n",
       "      <th>3824</th>\n",
       "      <td>3825</td>\n",
       "      <td>KEVIN LEE</td>\n",
       "      <td>POLICE OFFICER III</td>\n",
       "      <td>112401.08</td>\n",
       "      <td>19374.72</td>\n",
       "      <td>1062.10</td>\n",
       "      <td>0.00</td>\n",
       "      <td>132837.90</td>\n",
       "      <td>132837.90</td>\n",
       "      <td>2011</td>\n",
       "      <td>San Francisco</td>\n",
       "    </tr>\n",
       "    <tr>\n",
       "      <th>4036</th>\n",
       "      <td>4037</td>\n",
       "      <td>KEVIN LEE</td>\n",
       "      <td>POLICE OFFICER II</td>\n",
       "      <td>108000.94</td>\n",
       "      <td>17468.40</td>\n",
       "      <td>6025.54</td>\n",
       "      <td>0.00</td>\n",
       "      <td>131494.88</td>\n",
       "      <td>131494.88</td>\n",
       "      <td>2011</td>\n",
       "      <td>San Francisco</td>\n",
       "    </tr>\n",
       "    <tr>\n",
       "      <th>5279</th>\n",
       "      <td>5280</td>\n",
       "      <td>KEVIN LEE</td>\n",
       "      <td>ELECTRICAL TRANSIT SYSTEM MECHANIC</td>\n",
       "      <td>77580.68</td>\n",
       "      <td>36378.97</td>\n",
       "      <td>8858.96</td>\n",
       "      <td>0.00</td>\n",
       "      <td>122818.61</td>\n",
       "      <td>122818.61</td>\n",
       "      <td>2011</td>\n",
       "      <td>San Francisco</td>\n",
       "    </tr>\n",
       "    <tr>\n",
       "      <th>13169</th>\n",
       "      <td>13170</td>\n",
       "      <td>KEVIN LEE</td>\n",
       "      <td>DEPUTY COURT CLERK III</td>\n",
       "      <td>83693.01</td>\n",
       "      <td>0.00</td>\n",
       "      <td>609.60</td>\n",
       "      <td>0.00</td>\n",
       "      <td>84302.61</td>\n",
       "      <td>84302.61</td>\n",
       "      <td>2011</td>\n",
       "      <td>San Francisco</td>\n",
       "    </tr>\n",
       "    <tr>\n",
       "      <th>13419</th>\n",
       "      <td>13420</td>\n",
       "      <td>KEVIN LEE</td>\n",
       "      <td>DEPUTY COURT CLERK III</td>\n",
       "      <td>83560.00</td>\n",
       "      <td>0.00</td>\n",
       "      <td>0.00</td>\n",
       "      <td>0.00</td>\n",
       "      <td>83560.00</td>\n",
       "      <td>83560.00</td>\n",
       "      <td>2011</td>\n",
       "      <td>San Francisco</td>\n",
       "    </tr>\n",
       "    <tr>\n",
       "      <th>15312</th>\n",
       "      <td>15313</td>\n",
       "      <td>KEVIN LEE</td>\n",
       "      <td>PERSONNEL ANALYST</td>\n",
       "      <td>76786.31</td>\n",
       "      <td>0.00</td>\n",
       "      <td>0.00</td>\n",
       "      <td>0.00</td>\n",
       "      <td>76786.31</td>\n",
       "      <td>76786.31</td>\n",
       "      <td>2011</td>\n",
       "      <td>San Francisco</td>\n",
       "    </tr>\n",
       "    <tr>\n",
       "      <th>17163</th>\n",
       "      <td>17164</td>\n",
       "      <td>KEVIN LEE</td>\n",
       "      <td>SENIOR PARKING CONTROL OFFICER</td>\n",
       "      <td>65324.60</td>\n",
       "      <td>4944.02</td>\n",
       "      <td>686.93</td>\n",
       "      <td>0.00</td>\n",
       "      <td>70955.55</td>\n",
       "      <td>70955.55</td>\n",
       "      <td>2011</td>\n",
       "      <td>San Francisco</td>\n",
       "    </tr>\n",
       "    <tr>\n",
       "      <th>17646</th>\n",
       "      <td>17647</td>\n",
       "      <td>KEVIN LEE</td>\n",
       "      <td>IS ADMINISTRATOR II</td>\n",
       "      <td>66349.74</td>\n",
       "      <td>718.23</td>\n",
       "      <td>2325.47</td>\n",
       "      <td>0.00</td>\n",
       "      <td>69393.44</td>\n",
       "      <td>69393.44</td>\n",
       "      <td>2011</td>\n",
       "      <td>San Francisco</td>\n",
       "    </tr>\n",
       "    <tr>\n",
       "      <th>27053</th>\n",
       "      <td>27054</td>\n",
       "      <td>KEVIN LEE</td>\n",
       "      <td>TRANSIT OPERATOR</td>\n",
       "      <td>31501.33</td>\n",
       "      <td>5003.46</td>\n",
       "      <td>770.75</td>\n",
       "      <td>0.00</td>\n",
       "      <td>37275.54</td>\n",
       "      <td>37275.54</td>\n",
       "      <td>2011</td>\n",
       "      <td>San Francisco</td>\n",
       "    </tr>\n",
       "    <tr>\n",
       "      <th>39715</th>\n",
       "      <td>39716</td>\n",
       "      <td>Kevin Lee</td>\n",
       "      <td>Police Officer 3</td>\n",
       "      <td>115866.90</td>\n",
       "      <td>23523.30</td>\n",
       "      <td>9313.54</td>\n",
       "      <td>34906.20</td>\n",
       "      <td>148703.74</td>\n",
       "      <td>183609.94</td>\n",
       "      <td>2012</td>\n",
       "      <td>San Francisco</td>\n",
       "    </tr>\n",
       "    <tr>\n",
       "      <th>40570</th>\n",
       "      <td>40571</td>\n",
       "      <td>Kevin Lee</td>\n",
       "      <td>Police Officer 3</td>\n",
       "      <td>117171.41</td>\n",
       "      <td>19606.88</td>\n",
       "      <td>4244.90</td>\n",
       "      <td>34610.10</td>\n",
       "      <td>141023.19</td>\n",
       "      <td>175633.29</td>\n",
       "      <td>2012</td>\n",
       "      <td>San Francisco</td>\n",
       "    </tr>\n",
       "    <tr>\n",
       "      <th>42510</th>\n",
       "      <td>42511</td>\n",
       "      <td>Kevin Lee</td>\n",
       "      <td>Electrical Transit System Mech</td>\n",
       "      <td>79220.54</td>\n",
       "      <td>40247.39</td>\n",
       "      <td>3353.49</td>\n",
       "      <td>38781.04</td>\n",
       "      <td>122821.42</td>\n",
       "      <td>161602.46</td>\n",
       "      <td>2012</td>\n",
       "      <td>San Francisco</td>\n",
       "    </tr>\n",
       "    <tr>\n",
       "      <th>49270</th>\n",
       "      <td>49271</td>\n",
       "      <td>Kevin Lee</td>\n",
       "      <td>Deputy Court Clerk III</td>\n",
       "      <td>84512.32</td>\n",
       "      <td>0.00</td>\n",
       "      <td>1469.99</td>\n",
       "      <td>36080.30</td>\n",
       "      <td>85982.31</td>\n",
       "      <td>122062.61</td>\n",
       "      <td>2012</td>\n",
       "      <td>San Francisco</td>\n",
       "    </tr>\n",
       "    <tr>\n",
       "      <th>49439</th>\n",
       "      <td>49440</td>\n",
       "      <td>Kevin Lee</td>\n",
       "      <td>Deputy Court Clerk III</td>\n",
       "      <td>84512.34</td>\n",
       "      <td>0.00</td>\n",
       "      <td>975.44</td>\n",
       "      <td>35902.02</td>\n",
       "      <td>85487.78</td>\n",
       "      <td>121389.80</td>\n",
       "      <td>2012</td>\n",
       "      <td>San Francisco</td>\n",
       "    </tr>\n",
       "    <tr>\n",
       "      <th>50123</th>\n",
       "      <td>50124</td>\n",
       "      <td>Kevin Lee</td>\n",
       "      <td>Personnel Analyst</td>\n",
       "      <td>83382.00</td>\n",
       "      <td>0.00</td>\n",
       "      <td>0.00</td>\n",
       "      <td>35210.59</td>\n",
       "      <td>83382.00</td>\n",
       "      <td>118592.59</td>\n",
       "      <td>2012</td>\n",
       "      <td>San Francisco</td>\n",
       "    </tr>\n",
       "    <tr>\n",
       "      <th>52233</th>\n",
       "      <td>52234</td>\n",
       "      <td>Kevin Lee</td>\n",
       "      <td>Senior Parking Control Officer</td>\n",
       "      <td>66774.03</td>\n",
       "      <td>9599.08</td>\n",
       "      <td>1092.62</td>\n",
       "      <td>31902.38</td>\n",
       "      <td>77465.73</td>\n",
       "      <td>109368.11</td>\n",
       "      <td>2012</td>\n",
       "      <td>San Francisco</td>\n",
       "    </tr>\n",
       "    <tr>\n",
       "      <th>53931</th>\n",
       "      <td>53932</td>\n",
       "      <td>Kevin Lee</td>\n",
       "      <td>Transit Operator</td>\n",
       "      <td>57397.32</td>\n",
       "      <td>9989.83</td>\n",
       "      <td>1800.48</td>\n",
       "      <td>34577.54</td>\n",
       "      <td>69187.63</td>\n",
       "      <td>103765.17</td>\n",
       "      <td>2012</td>\n",
       "      <td>San Francisco</td>\n",
       "    </tr>\n",
       "    <tr>\n",
       "      <th>55119</th>\n",
       "      <td>55120</td>\n",
       "      <td>Kevin Lee</td>\n",
       "      <td>IS Administrator 2</td>\n",
       "      <td>68940.44</td>\n",
       "      <td>0.00</td>\n",
       "      <td>0.00</td>\n",
       "      <td>30650.48</td>\n",
       "      <td>68940.44</td>\n",
       "      <td>99590.92</td>\n",
       "      <td>2012</td>\n",
       "      <td>San Francisco</td>\n",
       "    </tr>\n",
       "    <tr>\n",
       "      <th>112385</th>\n",
       "      <td>112386</td>\n",
       "      <td>Kevin Lee</td>\n",
       "      <td>Sergeant 3</td>\n",
       "      <td>137982.14</td>\n",
       "      <td>18537.19</td>\n",
       "      <td>16039.62</td>\n",
       "      <td>43039.12</td>\n",
       "      <td>172558.95</td>\n",
       "      <td>215598.07</td>\n",
       "      <td>2014</td>\n",
       "      <td>San Francisco</td>\n",
       "    </tr>\n",
       "    <tr>\n",
       "      <th>123141</th>\n",
       "      <td>123142</td>\n",
       "      <td>Kevin Lee</td>\n",
       "      <td>IT Operations Support Admin IV</td>\n",
       "      <td>91606.03</td>\n",
       "      <td>0.00</td>\n",
       "      <td>1013.00</td>\n",
       "      <td>34109.61</td>\n",
       "      <td>92619.03</td>\n",
       "      <td>126728.64</td>\n",
       "      <td>2014</td>\n",
       "      <td>San Francisco</td>\n",
       "    </tr>\n",
       "    <tr>\n",
       "      <th>124165</th>\n",
       "      <td>124166</td>\n",
       "      <td>Kevin Lee</td>\n",
       "      <td>Personnel Analyst</td>\n",
       "      <td>88353.01</td>\n",
       "      <td>0.00</td>\n",
       "      <td>0.00</td>\n",
       "      <td>33172.33</td>\n",
       "      <td>88353.01</td>\n",
       "      <td>121525.34</td>\n",
       "      <td>2014</td>\n",
       "      <td>San Francisco</td>\n",
       "    </tr>\n",
       "    <tr>\n",
       "      <th>124658</th>\n",
       "      <td>124659</td>\n",
       "      <td>Kevin Lee</td>\n",
       "      <td>Transit Operator</td>\n",
       "      <td>67230.30</td>\n",
       "      <td>10961.25</td>\n",
       "      <td>4050.85</td>\n",
       "      <td>36777.83</td>\n",
       "      <td>82242.40</td>\n",
       "      <td>119020.23</td>\n",
       "      <td>2014</td>\n",
       "      <td>San Francisco</td>\n",
       "    </tr>\n",
       "  </tbody>\n",
       "</table>\n",
       "</div>"
      ],
      "text/plain": [
       "            Id EmployeeName                            JobTitle    BasePay  \\\n",
       "3824      3825    KEVIN LEE                  POLICE OFFICER III  112401.08   \n",
       "4036      4037    KEVIN LEE                   POLICE OFFICER II  108000.94   \n",
       "5279      5280    KEVIN LEE  ELECTRICAL TRANSIT SYSTEM MECHANIC   77580.68   \n",
       "13169    13170    KEVIN LEE              DEPUTY COURT CLERK III   83693.01   \n",
       "13419    13420    KEVIN LEE              DEPUTY COURT CLERK III   83560.00   \n",
       "15312    15313    KEVIN LEE                   PERSONNEL ANALYST   76786.31   \n",
       "17163    17164    KEVIN LEE      SENIOR PARKING CONTROL OFFICER   65324.60   \n",
       "17646    17647    KEVIN LEE                 IS ADMINISTRATOR II   66349.74   \n",
       "27053    27054    KEVIN LEE                    TRANSIT OPERATOR   31501.33   \n",
       "39715    39716    Kevin Lee                    Police Officer 3  115866.90   \n",
       "40570    40571    Kevin Lee                    Police Officer 3  117171.41   \n",
       "42510    42511    Kevin Lee      Electrical Transit System Mech   79220.54   \n",
       "49270    49271    Kevin Lee              Deputy Court Clerk III   84512.32   \n",
       "49439    49440    Kevin Lee              Deputy Court Clerk III   84512.34   \n",
       "50123    50124    Kevin Lee                   Personnel Analyst   83382.00   \n",
       "52233    52234    Kevin Lee      Senior Parking Control Officer   66774.03   \n",
       "53931    53932    Kevin Lee                    Transit Operator   57397.32   \n",
       "55119    55120    Kevin Lee                  IS Administrator 2   68940.44   \n",
       "112385  112386    Kevin Lee                          Sergeant 3  137982.14   \n",
       "123141  123142    Kevin Lee      IT Operations Support Admin IV   91606.03   \n",
       "124165  124166    Kevin Lee                   Personnel Analyst   88353.01   \n",
       "124658  124659    Kevin Lee                    Transit Operator   67230.30   \n",
       "\n",
       "        OvertimePay  OtherPay  Benefits   TotalPay  TotalPayBenefits  Year  \\\n",
       "3824       19374.72   1062.10      0.00  132837.90         132837.90  2011   \n",
       "4036       17468.40   6025.54      0.00  131494.88         131494.88  2011   \n",
       "5279       36378.97   8858.96      0.00  122818.61         122818.61  2011   \n",
       "13169          0.00    609.60      0.00   84302.61          84302.61  2011   \n",
       "13419          0.00      0.00      0.00   83560.00          83560.00  2011   \n",
       "15312          0.00      0.00      0.00   76786.31          76786.31  2011   \n",
       "17163       4944.02    686.93      0.00   70955.55          70955.55  2011   \n",
       "17646        718.23   2325.47      0.00   69393.44          69393.44  2011   \n",
       "27053       5003.46    770.75      0.00   37275.54          37275.54  2011   \n",
       "39715      23523.30   9313.54  34906.20  148703.74         183609.94  2012   \n",
       "40570      19606.88   4244.90  34610.10  141023.19         175633.29  2012   \n",
       "42510      40247.39   3353.49  38781.04  122821.42         161602.46  2012   \n",
       "49270          0.00   1469.99  36080.30   85982.31         122062.61  2012   \n",
       "49439          0.00    975.44  35902.02   85487.78         121389.80  2012   \n",
       "50123          0.00      0.00  35210.59   83382.00         118592.59  2012   \n",
       "52233       9599.08   1092.62  31902.38   77465.73         109368.11  2012   \n",
       "53931       9989.83   1800.48  34577.54   69187.63         103765.17  2012   \n",
       "55119          0.00      0.00  30650.48   68940.44          99590.92  2012   \n",
       "112385     18537.19  16039.62  43039.12  172558.95         215598.07  2014   \n",
       "123141         0.00   1013.00  34109.61   92619.03         126728.64  2014   \n",
       "124165         0.00      0.00  33172.33   88353.01         121525.34  2014   \n",
       "124658     10961.25   4050.85  36777.83   82242.40         119020.23  2014   \n",
       "\n",
       "               Agency  \n",
       "3824    San Francisco  \n",
       "4036    San Francisco  \n",
       "5279    San Francisco  \n",
       "13169   San Francisco  \n",
       "13419   San Francisco  \n",
       "15312   San Francisco  \n",
       "17163   San Francisco  \n",
       "17646   San Francisco  \n",
       "27053   San Francisco  \n",
       "39715   San Francisco  \n",
       "40570   San Francisco  \n",
       "42510   San Francisco  \n",
       "49270   San Francisco  \n",
       "49439   San Francisco  \n",
       "50123   San Francisco  \n",
       "52233   San Francisco  \n",
       "53931   San Francisco  \n",
       "55119   San Francisco  \n",
       "112385  San Francisco  \n",
       "123141  San Francisco  \n",
       "124165  San Francisco  \n",
       "124658  San Francisco  "
      ]
     },
     "execution_count": 76,
     "metadata": {},
     "output_type": "execute_result"
    }
   ],
   "source": [
    "# Select the most common name\n",
    "# Something wrong, fix the error\n",
    "names = sal['EmployeeName'].str.lower().value_counts()\n",
    "sample = names[names > 1].head(1).index\n",
    "sal[sal['EmployeeName'].str.lower().isin(sample)]"
   ]
  },
  {
   "cell_type": "markdown",
   "metadata": {
    "colab_type": "text",
    "id": "zB_Fu1c9Pm1u"
   },
   "source": [
    "*The names are duplicated because the data describes one person in different years or just because there are people who have same name. It's ok so we only need to uppercase all of the name to eliminate case sensitive.*\n",
    "\n",
    "*But there are definitely some duplication of Job Title, example `Police Officer 3` and `POLICE OFFICER III`*"
   ]
  },
  {
   "cell_type": "code",
   "execution_count": 79,
   "metadata": {
    "colab": {},
    "colab_type": "code",
    "id": "Ufw8QW-6Pm1u"
   },
   "outputs": [],
   "source": [
    "# Replace Name and Job Title with its uppercase\n",
    "# Fill the blanks\n",
    "sal['EmployeeName'] = sal['EmployeeName'].str.upper()\n",
    "sal['JobTitle'] = sal['JobTitle'].str.upper()"
   ]
  },
  {
   "cell_type": "code",
   "execution_count": 80,
   "metadata": {
    "colab": {},
    "colab_type": "code",
    "id": "heSYToXzPm1x"
   },
   "outputs": [
    {
     "data": {
      "text/plain": [
       "POLICE OFFICER 3            2418\n",
       "POLICE OFFICER 2            1141\n",
       "SERGEANT 3                  1047\n",
       "LIBRARIAN 1                  530\n",
       "HEALTH WORKER 3              438\n",
       "                            ... \n",
       "SPECIAL ASSISTANT 8            1\n",
       "CASHIER 3                      1\n",
       "SPECIAL ASSISTANT 13           1\n",
       "SPECIAL ASSISTANT 18           1\n",
       "ASST DIR CLINICAL SVCS 2       1\n",
       "Name: JobTitle, Length: 166, dtype: int64"
      ]
     },
     "execution_count": 80,
     "metadata": {},
     "output_type": "execute_result"
    }
   ],
   "source": [
    "# Write a regular expression to select JobTitle that ends with a digit\n",
    "# Fill the blank\n",
    "sal['JobTitle'][sal['JobTitle'].str.contains('\\d$', regex=True)].value_counts()"
   ]
  },
  {
   "cell_type": "code",
   "execution_count": 81,
   "metadata": {
    "colab": {},
    "colab_type": "code",
    "id": "xaYYbPRPPm10",
    "outputId": "49fbb836-433b-496c-bdf8-eb4ca59845e2"
   },
   "outputs": [
    {
     "data": {
      "text/plain": [
       "POLICE OFFICER 3      2418\n",
       "POLICE OFFICER        1476\n",
       "POLICE OFFICER 2      1141\n",
       "POLICE OFFICER III     779\n",
       "POLICE OFFICER I       467\n",
       "POLICE OFFICER II      361\n",
       "Name: JobTitle, dtype: int64"
      ]
     },
     "execution_count": 81,
     "metadata": {},
     "output_type": "execute_result"
    }
   ],
   "source": [
    "# Write a regex that count all JobTitle start with POLICE OFFICER\n",
    "# Fill the blank\n",
    "sal['JobTitle'][sal['JobTitle'].str.contains('^POLICE OFFICER', regex=True)].value_counts()"
   ]
  },
  {
   "cell_type": "markdown",
   "metadata": {
    "colab_type": "text",
    "id": "1u2obTwpT55c"
   },
   "source": [
    "There are discrepancies on how those `JobTitle` are represented. For instance: `POLICE OFFICER II` is `POLICE OFFICER 2` and those should be treated equally.\n",
    "\n",
    "We'll modify this feature accordingly by transforming all the Roman numbers  to our every day numbers.\n"
   ]
  },
  {
   "cell_type": "code",
   "execution_count": 82,
   "metadata": {
    "colab": {},
    "colab_type": "code",
    "id": "V1eYSjo0Pm12",
    "outputId": "065326d6-b3cd-46e0-c0a4-5a90d5314950"
   },
   "outputs": [
    {
     "data": {
      "text/plain": [
       "'POLICE OFFICER 3'"
      ]
     },
     "execution_count": 82,
     "metadata": {},
     "output_type": "execute_result"
    }
   ],
   "source": [
    "# This is a simple function to transform roman number\n",
    "def transform_roman(s):\n",
    "    d = {'I':1, 'II':2, 'III':3, 'IV':4, 'V':5, 'VI':6, 'VII':7, 'VIII':8, 'IX':9, 'X':10, \n",
    "        'XI':11, 'XII':12, 'XIII':13, 'XIV':14, 'XV':15, 'XVI':16, 'XVII':17, 'XVIII':18, 'XIX':19, 'XX':20}\n",
    "    \n",
    "    s_split = s.split()\n",
    "    if s_split[-1] in d.keys():\n",
    "        s_split[-1] = str(d[s_split[-1]])\n",
    "    return ' '.join(s_split)\n",
    "\n",
    "# Test it out\n",
    "transform_roman('POLICE OFFICER III')"
   ]
  },
  {
   "cell_type": "code",
   "execution_count": 83,
   "metadata": {
    "colab": {},
    "colab_type": "code",
    "id": "2PX5dFaxPm14"
   },
   "outputs": [],
   "source": [
    "# Apply the function above to the column JobTitle\n",
    "# Fill the blank\n",
    "sal['JobTitle'] = sal['JobTitle'].apply(transform_roman)"
   ]
  },
  {
   "cell_type": "markdown",
   "metadata": {
    "colab_type": "text",
    "id": "Ikd1t-v3Pm17"
   },
   "source": [
    "### Step 4 - EDA"
   ]
  },
  {
   "cell_type": "markdown",
   "metadata": {
    "colab_type": "text",
    "id": "-dEBLw1uPm1-"
   },
   "source": [
    "**Plot categorical data**"
   ]
  },
  {
   "cell_type": "code",
   "execution_count": 84,
   "metadata": {
    "colab": {},
    "colab_type": "code",
    "id": "_N-UF331Pm1-",
    "outputId": "b4348649-6982-42e0-b09b-16cad665fddc"
   },
   "outputs": [
    {
     "data": {
      "text/plain": [
       "<matplotlib.axes._subplots.AxesSubplot at 0x22acb144518>"
      ]
     },
     "execution_count": 84,
     "metadata": {},
     "output_type": "execute_result"
    },
    {
     "data": {
      "image/png": "[encoded data removed]",
      "text/plain": [
       "<Figure size 432x288 with 1 Axes>"
      ]
     },
     "metadata": {
      "needs_background": "light"
     },
     "output_type": "display_data"
    }
   ],
   "source": [
    "sns.countplot(x='Year', data=sal)\n",
    "# What can you tell by looking at this?"
   ]
  },
  {
   "cell_type": "markdown",
   "metadata": {
    "colab_type": "text",
    "id": "pGvAB5cNPm2D"
   },
   "source": [
    "**Top 5 common job titles**"
   ]
  },
  {
   "cell_type": "code",
   "execution_count": 85,
   "metadata": {
    "colab": {},
    "colab_type": "code",
    "id": "3LrHbjpHPm2D"
   },
   "outputs": [
    {
     "data": {
      "text/plain": [
       "<matplotlib.axes._subplots.AxesSubplot at 0x22ac54e4780>"
      ]
     },
     "execution_count": 85,
     "metadata": {},
     "output_type": "execute_result"
    },
    {
     "data": {
      "image/png": "[encoded data removed]",
      "text/plain": [
       "<Figure size 432x288 with 1 Axes>"
      ]
     },
     "metadata": {
      "needs_background": "light"
     },
     "output_type": "display_data"
    }
   ],
   "source": [
    "# Fill the blanks \n",
    "sal['JobTitle'].value_counts().head(5).plot(kind='barh')"
   ]
  },
  {
   "cell_type": "markdown",
   "metadata": {
    "colab_type": "text",
    "id": "JZvwnGZ-Pm2F"
   },
   "source": [
    "**Distribution of numerical data**"
   ]
  },
  {
   "cell_type": "code",
   "execution_count": 86,
   "metadata": {
    "colab": {},
    "colab_type": "code",
    "id": "UnTkDE4NPm2F"
   },
   "outputs": [
    {
     "data": {
      "text/plain": [
       "<matplotlib.axes._subplots.AxesSubplot at 0x22ac60c6c50>"
      ]
     },
     "execution_count": 86,
     "metadata": {},
     "output_type": "execute_result"
    },
    {
     "data": {
      "image/png": "[encoded data removed]",
      "text/plain": [
       "<Figure size 432x288 with 1 Axes>"
      ]
     },
     "metadata": {
      "needs_background": "light"
     },
     "output_type": "display_data"
    }
   ],
   "source": [
    "# Run this\n",
    "sns.distplot(sal['TotalPayBenefits'])"
   ]
  },
  {
   "cell_type": "code",
   "execution_count": 87,
   "metadata": {
    "colab": {},
    "colab_type": "code",
    "id": "rS3lsmV4Pm2J"
   },
   "outputs": [
    {
     "data": {
      "image/png": "[encoded data removed]",
      "text/plain": [
       "<Figure size 432x288 with 1 Axes>"
      ]
     },
     "metadata": {
      "needs_background": "light"
     },
     "output_type": "display_data"
    }
   ],
   "source": [
    "# Histogram is sensitive with the bins, try some examples to prove that\n",
    "plt.hist(sal['TotalPayBenefits'], bins=5)\n",
    "plt.show()"
   ]
  },
  {
   "cell_type": "code",
   "execution_count": 88,
   "metadata": {
    "colab": {},
    "colab_type": "code",
    "id": "OmY97JiBsn__",
    "outputId": "3732affd-9ac9-4bf7-af93-4c4f081f61c0"
   },
   "outputs": [
    {
     "data": {
      "image/png": "[encoded data removed]",
      "text/plain": [
       "<Figure size 864x432 with 4 Axes>"
      ]
     },
     "metadata": {
      "needs_background": "light"
     },
     "output_type": "display_data"
    }
   ],
   "source": [
    "# Plot these diagrams in a dashboard with two rows and two columns\n",
    "# sns.kdeplot(sal['BasePay'])\n",
    "# sns.kdeplot(sal['OvertimePay'])\n",
    "# sns.kdeplot(sal['OtherPay'])\n",
    "# sns.kdeplot(sal['Benefits'])\n",
    "\n",
    "f, axes = plt.subplots(2, 2, figsize=(12, 6))\n",
    "\n",
    "# Your code here\n",
    "\n",
    "plt.show()"
   ]
  },
  {
   "cell_type": "code",
   "execution_count": 90,
   "metadata": {
    "colab": {},
    "colab_type": "code",
    "id": "3bhCQzNfPm2S",
    "outputId": "62baa862-0c69-475f-8a31-0ff740252980"
   },
   "outputs": [
    {
     "ename": "NameError",
     "evalue": "name 'axis' is not defined",
     "output_type": "error",
     "traceback": [
      "\u001b[1;31m---------------------------------------------------------------------------\u001b[0m",
      "\u001b[1;31mNameError\u001b[0m                                 Traceback (most recent call last)",
      "\u001b[1;32m<ipython-input-90-74b6bc06b6c4>\u001b[0m in \u001b[0;36m<module>\u001b[1;34m\u001b[0m\n\u001b[0;32m      6\u001b[0m \u001b[1;33m\u001b[0m\u001b[0m\n\u001b[0;32m      7\u001b[0m \u001b[1;31m# Your code here\u001b[0m\u001b[1;33m\u001b[0m\u001b[1;33m\u001b[0m\u001b[0m\n\u001b[1;32m----> 8\u001b[1;33m \u001b[0msns\u001b[0m\u001b[1;33m.\u001b[0m\u001b[0mdistplot\u001b[0m\u001b[1;33m(\u001b[0m\u001b[0msal\u001b[0m\u001b[1;33m[\u001b[0m\u001b[1;34m'TotalPay'\u001b[0m\u001b[1;33m]\u001b[0m\u001b[1;33m,\u001b[0m \u001b[0maxe\u001b[0m\u001b[1;33m=\u001b[0m\u001b[0maxis\u001b[0m\u001b[1;33m[\u001b[0m\u001b[1;36m0\u001b[0m\u001b[1;33m]\u001b[0m\u001b[1;33m)\u001b[0m\u001b[1;33m\u001b[0m\u001b[0m\n\u001b[0m\u001b[0;32m      9\u001b[0m \u001b[0msns\u001b[0m\u001b[1;33m.\u001b[0m\u001b[0mdistplot\u001b[0m\u001b[1;33m(\u001b[0m\u001b[0msal\u001b[0m\u001b[1;33m[\u001b[0m\u001b[1;34m'TotalPayBenefits'\u001b[0m\u001b[1;33m]\u001b[0m\u001b[1;33m,\u001b[0m \u001b[0maxe\u001b[0m\u001b[1;33m=\u001b[0m\u001b[0maxis\u001b[0m\u001b[1;33m[\u001b[0m\u001b[1;36m1\u001b[0m\u001b[1;33m]\u001b[0m\u001b[1;33m)\u001b[0m\u001b[1;33m\u001b[0m\u001b[0m\n\u001b[0;32m     10\u001b[0m \u001b[1;33m\u001b[0m\u001b[0m\n",
      "\u001b[1;31mNameError\u001b[0m: name 'axis' is not defined"
     ]
    },
    {
     "data": {
      "image/png": "[encoded data removed]",
      "text/plain": [
       "<Figure size 864x432 with 2 Axes>"
      ]
     },
     "metadata": {
      "needs_background": "light"
     },
     "output_type": "display_data"
    }
   ],
   "source": [
    "# Plot these diagrams in a dashboard with one rows and two columns\n",
    "# sns.distplot(sal['TotalPay'])\n",
    "# sns.distplot(sal['TotalPayBenefits'])\n",
    "\n",
    "f, axes = plt.subplots(1, 2, figsize=(12, 6))\n",
    "\n",
    "# Your code here\n",
    "sns.distplot(sal['TotalPay'], axe=axis[0])\n",
    "sns.distplot(sal['TotalPayBenefits'], axe=axis[1])\n",
    "\n",
    "plt.show()"
   ]
  },
  {
   "cell_type": "markdown",
   "metadata": {
    "colab_type": "text",
    "id": "AYQl8xQstFcl"
   },
   "source": [
    "**Analize richest people**"
   ]
  },
  {
   "cell_type": "code",
   "execution_count": 92,
   "metadata": {
    "colab": {},
    "colab_type": "code",
    "id": "wnr3XVJYPm2U"
   },
   "outputs": [
    {
     "data": {
      "text/html": [
       "<div>\n",
       "<style scoped>\n",
       "    .dataframe tbody tr th:only-of-type {\n",
       "        vertical-align: middle;\n",
       "    }\n",
       "\n",
       "    .dataframe tbody tr th {\n",
       "        vertical-align: top;\n",
       "    }\n",
       "\n",
       "    .dataframe thead th {\n",
       "        text-align: right;\n",
       "    }\n",
       "</style>\n",
       "<table border=\"1\" class=\"dataframe\">\n",
       "  <thead>\n",
       "    <tr style=\"text-align: right;\">\n",
       "      <th></th>\n",
       "      <th>Id</th>\n",
       "      <th>EmployeeName</th>\n",
       "      <th>JobTitle</th>\n",
       "      <th>BasePay</th>\n",
       "      <th>OvertimePay</th>\n",
       "      <th>OtherPay</th>\n",
       "      <th>Benefits</th>\n",
       "      <th>TotalPay</th>\n",
       "      <th>TotalPayBenefits</th>\n",
       "      <th>Year</th>\n",
       "    </tr>\n",
       "  </thead>\n",
       "  <tbody>\n",
       "    <tr>\n",
       "      <th>0</th>\n",
       "      <td>1</td>\n",
       "      <td>NATHANIEL FORD</td>\n",
       "      <td>GENERAL MANAGER-METROPOLITAN TRANSIT AUTHORITY</td>\n",
       "      <td>167411.18</td>\n",
       "      <td>0.00</td>\n",
       "      <td>400184.25</td>\n",
       "      <td>0.00</td>\n",
       "      <td>567595.43</td>\n",
       "      <td>567595.43</td>\n",
       "      <td>2011</td>\n",
       "    </tr>\n",
       "    <tr>\n",
       "      <th>1</th>\n",
       "      <td>2</td>\n",
       "      <td>GARY JIMENEZ</td>\n",
       "      <td>CAPTAIN III (POLICE DEPARTMENT)</td>\n",
       "      <td>155966.02</td>\n",
       "      <td>245131.88</td>\n",
       "      <td>137811.38</td>\n",
       "      <td>0.00</td>\n",
       "      <td>538909.28</td>\n",
       "      <td>538909.28</td>\n",
       "      <td>2011</td>\n",
       "    </tr>\n",
       "    <tr>\n",
       "      <th>2</th>\n",
       "      <td>3</td>\n",
       "      <td>ALBERT PARDINI</td>\n",
       "      <td>CAPTAIN III (POLICE DEPARTMENT)</td>\n",
       "      <td>212739.13</td>\n",
       "      <td>106088.18</td>\n",
       "      <td>16452.60</td>\n",
       "      <td>0.00</td>\n",
       "      <td>335279.91</td>\n",
       "      <td>335279.91</td>\n",
       "      <td>2011</td>\n",
       "    </tr>\n",
       "    <tr>\n",
       "      <th>3</th>\n",
       "      <td>4</td>\n",
       "      <td>CHRISTOPHER CHONG</td>\n",
       "      <td>WIRE ROPE CABLE MAINTENANCE MECHANIC</td>\n",
       "      <td>77916.00</td>\n",
       "      <td>56120.71</td>\n",
       "      <td>198306.90</td>\n",
       "      <td>0.00</td>\n",
       "      <td>332343.61</td>\n",
       "      <td>332343.61</td>\n",
       "      <td>2011</td>\n",
       "    </tr>\n",
       "    <tr>\n",
       "      <th>4</th>\n",
       "      <td>5</td>\n",
       "      <td>PATRICK GARDNER</td>\n",
       "      <td>DEPUTY CHIEF OF DEPARTMENT,(FIRE DEPARTMENT)</td>\n",
       "      <td>134401.60</td>\n",
       "      <td>9737.00</td>\n",
       "      <td>182234.59</td>\n",
       "      <td>0.00</td>\n",
       "      <td>326373.19</td>\n",
       "      <td>326373.19</td>\n",
       "      <td>2011</td>\n",
       "    </tr>\n",
       "    <tr>\n",
       "      <th>5</th>\n",
       "      <td>6</td>\n",
       "      <td>DAVID SULLIVAN</td>\n",
       "      <td>ASSISTANT DEPUTY CHIEF 2</td>\n",
       "      <td>118602.00</td>\n",
       "      <td>8601.00</td>\n",
       "      <td>189082.74</td>\n",
       "      <td>0.00</td>\n",
       "      <td>316285.74</td>\n",
       "      <td>316285.74</td>\n",
       "      <td>2011</td>\n",
       "    </tr>\n",
       "    <tr>\n",
       "      <th>6</th>\n",
       "      <td>7</td>\n",
       "      <td>ALSON LEE</td>\n",
       "      <td>BATTALION CHIEF, (FIRE DEPARTMENT)</td>\n",
       "      <td>92492.01</td>\n",
       "      <td>89062.90</td>\n",
       "      <td>134426.14</td>\n",
       "      <td>0.00</td>\n",
       "      <td>315981.05</td>\n",
       "      <td>315981.05</td>\n",
       "      <td>2011</td>\n",
       "    </tr>\n",
       "    <tr>\n",
       "      <th>7</th>\n",
       "      <td>8</td>\n",
       "      <td>DAVID KUSHNER</td>\n",
       "      <td>DEPUTY DIRECTOR OF INVESTMENTS</td>\n",
       "      <td>256576.96</td>\n",
       "      <td>0.00</td>\n",
       "      <td>51322.50</td>\n",
       "      <td>0.00</td>\n",
       "      <td>307899.46</td>\n",
       "      <td>307899.46</td>\n",
       "      <td>2011</td>\n",
       "    </tr>\n",
       "    <tr>\n",
       "      <th>8</th>\n",
       "      <td>9</td>\n",
       "      <td>MICHAEL MORRIS</td>\n",
       "      <td>BATTALION CHIEF, (FIRE DEPARTMENT)</td>\n",
       "      <td>176932.64</td>\n",
       "      <td>86362.68</td>\n",
       "      <td>40132.23</td>\n",
       "      <td>0.00</td>\n",
       "      <td>303427.55</td>\n",
       "      <td>303427.55</td>\n",
       "      <td>2011</td>\n",
       "    </tr>\n",
       "    <tr>\n",
       "      <th>9</th>\n",
       "      <td>10</td>\n",
       "      <td>JOANNE HAYES-WHITE</td>\n",
       "      <td>CHIEF OF DEPARTMENT, (FIRE DEPARTMENT)</td>\n",
       "      <td>285262.00</td>\n",
       "      <td>0.00</td>\n",
       "      <td>17115.73</td>\n",
       "      <td>0.00</td>\n",
       "      <td>302377.73</td>\n",
       "      <td>302377.73</td>\n",
       "      <td>2011</td>\n",
       "    </tr>\n",
       "    <tr>\n",
       "      <th>36159</th>\n",
       "      <td>36160</td>\n",
       "      <td>GARY ALTENBERG</td>\n",
       "      <td>LIEUTENANT, FIRE SUPPRESSION</td>\n",
       "      <td>128808.87</td>\n",
       "      <td>220909.48</td>\n",
       "      <td>13126.31</td>\n",
       "      <td>44430.12</td>\n",
       "      <td>362844.66</td>\n",
       "      <td>407274.78</td>\n",
       "      <td>2012</td>\n",
       "    </tr>\n",
       "    <tr>\n",
       "      <th>36160</th>\n",
       "      <td>36161</td>\n",
       "      <td>GREGORY SUHR</td>\n",
       "      <td>CHIEF OF POLICE</td>\n",
       "      <td>302578.00</td>\n",
       "      <td>0.00</td>\n",
       "      <td>18974.11</td>\n",
       "      <td>69810.19</td>\n",
       "      <td>321552.11</td>\n",
       "      <td>391362.30</td>\n",
       "      <td>2012</td>\n",
       "    </tr>\n",
       "    <tr>\n",
       "      <th>36161</th>\n",
       "      <td>36162</td>\n",
       "      <td>KHOA TRINH</td>\n",
       "      <td>ELECTRONIC MAINTENANCE TECH</td>\n",
       "      <td>111921.00</td>\n",
       "      <td>146415.32</td>\n",
       "      <td>78057.41</td>\n",
       "      <td>53102.29</td>\n",
       "      <td>336393.73</td>\n",
       "      <td>389496.02</td>\n",
       "      <td>2012</td>\n",
       "    </tr>\n",
       "    <tr>\n",
       "      <th>36162</th>\n",
       "      <td>36163</td>\n",
       "      <td>JOANNE HAYES-WHITE</td>\n",
       "      <td>CHIEF, FIRE DEPARTMENT</td>\n",
       "      <td>296943.01</td>\n",
       "      <td>0.00</td>\n",
       "      <td>17816.59</td>\n",
       "      <td>72047.88</td>\n",
       "      <td>314759.60</td>\n",
       "      <td>386807.48</td>\n",
       "      <td>2012</td>\n",
       "    </tr>\n",
       "    <tr>\n",
       "      <th>36163</th>\n",
       "      <td>36164</td>\n",
       "      <td>FREDERICK BINKLEY</td>\n",
       "      <td>EMT/PARAMEDIC/FIREFIGHTER</td>\n",
       "      <td>126863.19</td>\n",
       "      <td>192424.49</td>\n",
       "      <td>17917.18</td>\n",
       "      <td>44438.25</td>\n",
       "      <td>337204.86</td>\n",
       "      <td>381643.11</td>\n",
       "      <td>2012</td>\n",
       "    </tr>\n",
       "    <tr>\n",
       "      <th>36164</th>\n",
       "      <td>36165</td>\n",
       "      <td>AMY HART</td>\n",
       "      <td>DEPT HEAD 5</td>\n",
       "      <td>271607.74</td>\n",
       "      <td>0.00</td>\n",
       "      <td>19782.03</td>\n",
       "      <td>84681.82</td>\n",
       "      <td>291389.77</td>\n",
       "      <td>376071.59</td>\n",
       "      <td>2012</td>\n",
       "    </tr>\n",
       "    <tr>\n",
       "      <th>36165</th>\n",
       "      <td>36166</td>\n",
       "      <td>EDWARD REISKIN</td>\n",
       "      <td>GEN MGR, PUBLIC TRNSP DEPT</td>\n",
       "      <td>294000.17</td>\n",
       "      <td>0.00</td>\n",
       "      <td>0.00</td>\n",
       "      <td>82001.94</td>\n",
       "      <td>294000.17</td>\n",
       "      <td>376002.11</td>\n",
       "      <td>2012</td>\n",
       "    </tr>\n",
       "    <tr>\n",
       "      <th>36166</th>\n",
       "      <td>36167</td>\n",
       "      <td>JOHN MARTIN</td>\n",
       "      <td>DEPT HEAD 5</td>\n",
       "      <td>287747.89</td>\n",
       "      <td>0.00</td>\n",
       "      <td>5274.57</td>\n",
       "      <td>81824.37</td>\n",
       "      <td>293022.46</td>\n",
       "      <td>374846.83</td>\n",
       "      <td>2012</td>\n",
       "    </tr>\n",
       "    <tr>\n",
       "      <th>36167</th>\n",
       "      <td>36168</td>\n",
       "      <td>JOHN GOLDBERG</td>\n",
       "      <td>CAPTAIN 3</td>\n",
       "      <td>104404.00</td>\n",
       "      <td>0.00</td>\n",
       "      <td>245999.41</td>\n",
       "      <td>24287.23</td>\n",
       "      <td>350403.41</td>\n",
       "      <td>374690.64</td>\n",
       "      <td>2012</td>\n",
       "    </tr>\n",
       "    <tr>\n",
       "      <th>36168</th>\n",
       "      <td>36169</td>\n",
       "      <td>DAVID FRANKLIN</td>\n",
       "      <td>ASST CHF OF DEPT (FIRE DEPT)</td>\n",
       "      <td>204032.52</td>\n",
       "      <td>85503.16</td>\n",
       "      <td>26193.09</td>\n",
       "      <td>58486.10</td>\n",
       "      <td>315728.77</td>\n",
       "      <td>374214.87</td>\n",
       "      <td>2012</td>\n",
       "    </tr>\n",
       "    <tr>\n",
       "      <th>36169</th>\n",
       "      <td>36170</td>\n",
       "      <td>BRENDAN WARD</td>\n",
       "      <td>BATTLION CHIEF, FIRE SUPPRESSI</td>\n",
       "      <td>174822.47</td>\n",
       "      <td>118215.58</td>\n",
       "      <td>28845.78</td>\n",
       "      <td>49648.09</td>\n",
       "      <td>321883.83</td>\n",
       "      <td>371531.92</td>\n",
       "      <td>2012</td>\n",
       "    </tr>\n",
       "    <tr>\n",
       "      <th>36170</th>\n",
       "      <td>36171</td>\n",
       "      <td>SAMSON LAI</td>\n",
       "      <td>BATTLION CHIEF, FIRE SUPPRESSI</td>\n",
       "      <td>174822.44</td>\n",
       "      <td>112731.28</td>\n",
       "      <td>28660.28</td>\n",
       "      <td>53249.56</td>\n",
       "      <td>316214.00</td>\n",
       "      <td>369463.56</td>\n",
       "      <td>2012</td>\n",
       "    </tr>\n",
       "    <tr>\n",
       "      <th>36171</th>\n",
       "      <td>36172</td>\n",
       "      <td>RUDY CASTELLANOS</td>\n",
       "      <td>BATTLION CHIEF, FIRE SUPPRESSI</td>\n",
       "      <td>176771.74</td>\n",
       "      <td>124413.13</td>\n",
       "      <td>15803.39</td>\n",
       "      <td>52320.90</td>\n",
       "      <td>316988.26</td>\n",
       "      <td>369309.16</td>\n",
       "      <td>2012</td>\n",
       "    </tr>\n",
       "    <tr>\n",
       "      <th>36172</th>\n",
       "      <td>36173</td>\n",
       "      <td>MARTY ROSS</td>\n",
       "      <td>BATTLION CHIEF, FIRE SUPPRESSI</td>\n",
       "      <td>174822.41</td>\n",
       "      <td>99623.51</td>\n",
       "      <td>36522.39</td>\n",
       "      <td>55353.92</td>\n",
       "      <td>310968.31</td>\n",
       "      <td>366322.23</td>\n",
       "      <td>2012</td>\n",
       "    </tr>\n",
       "    <tr>\n",
       "      <th>36173</th>\n",
       "      <td>36174</td>\n",
       "      <td>MARK KEARNEY</td>\n",
       "      <td>ASSISTANT DEPUTY CHIEF 2</td>\n",
       "      <td>124573.50</td>\n",
       "      <td>22599.60</td>\n",
       "      <td>180516.68</td>\n",
       "      <td>32381.00</td>\n",
       "      <td>327689.78</td>\n",
       "      <td>360070.78</td>\n",
       "      <td>2012</td>\n",
       "    </tr>\n",
       "    <tr>\n",
       "      <th>36174</th>\n",
       "      <td>36175</td>\n",
       "      <td>LEDA ROZIER</td>\n",
       "      <td>TRANSIT MANAGER 2</td>\n",
       "      <td>98211.01</td>\n",
       "      <td>0.00</td>\n",
       "      <td>200951.30</td>\n",
       "      <td>60285.44</td>\n",
       "      <td>299162.31</td>\n",
       "      <td>359447.75</td>\n",
       "      <td>2012</td>\n",
       "    </tr>\n",
       "    <tr>\n",
       "      <th>36175</th>\n",
       "      <td>36176</td>\n",
       "      <td>ELLEN MOFFATT</td>\n",
       "      <td>ASST MED EXAMINER</td>\n",
       "      <td>260528.26</td>\n",
       "      <td>3394.90</td>\n",
       "      <td>20400.00</td>\n",
       "      <td>73017.12</td>\n",
       "      <td>284323.16</td>\n",
       "      <td>357340.28</td>\n",
       "      <td>2012</td>\n",
       "    </tr>\n",
       "    <tr>\n",
       "      <th>36176</th>\n",
       "      <td>36177</td>\n",
       "      <td>RAYMOND GUZMAN</td>\n",
       "      <td>DEP CHF OF DEPT (FIRE DEPT)</td>\n",
       "      <td>244102.02</td>\n",
       "      <td>24204.66</td>\n",
       "      <td>20232.29</td>\n",
       "      <td>64702.72</td>\n",
       "      <td>288538.97</td>\n",
       "      <td>353241.69</td>\n",
       "      <td>2012</td>\n",
       "    </tr>\n",
       "    <tr>\n",
       "      <th>36177</th>\n",
       "      <td>36178</td>\n",
       "      <td>EDWARD HARRINGTON</td>\n",
       "      <td>EXECUTIVE CONTRACT EMPLOYEE</td>\n",
       "      <td>232815.01</td>\n",
       "      <td>0.00</td>\n",
       "      <td>51564.01</td>\n",
       "      <td>67667.09</td>\n",
       "      <td>284379.02</td>\n",
       "      <td>352046.11</td>\n",
       "      <td>2012</td>\n",
       "    </tr>\n",
       "    <tr>\n",
       "      <th>36178</th>\n",
       "      <td>36179</td>\n",
       "      <td>JUDY MELINEK</td>\n",
       "      <td>ASST MED EXAMINER</td>\n",
       "      <td>260528.15</td>\n",
       "      <td>377.21</td>\n",
       "      <td>18425.37</td>\n",
       "      <td>72286.35</td>\n",
       "      <td>279330.73</td>\n",
       "      <td>351617.08</td>\n",
       "      <td>2012</td>\n",
       "    </tr>\n",
       "    <tr>\n",
       "      <th>...</th>\n",
       "      <td>...</td>\n",
       "      <td>...</td>\n",
       "      <td>...</td>\n",
       "      <td>...</td>\n",
       "      <td>...</td>\n",
       "      <td>...</td>\n",
       "      <td>...</td>\n",
       "      <td>...</td>\n",
       "      <td>...</td>\n",
       "      <td>...</td>\n",
       "    </tr>\n",
       "    <tr>\n",
       "      <th>110592</th>\n",
       "      <td>110593</td>\n",
       "      <td>RAEMONA E WILLIAMS</td>\n",
       "      <td>BATTALION CHIEF, FIRE SUPPRESS</td>\n",
       "      <td>227252.87</td>\n",
       "      <td>2742.76</td>\n",
       "      <td>18620.41</td>\n",
       "      <td>65337.63</td>\n",
       "      <td>248616.04</td>\n",
       "      <td>313953.67</td>\n",
       "      <td>2014</td>\n",
       "    </tr>\n",
       "    <tr>\n",
       "      <th>110593</th>\n",
       "      <td>110594</td>\n",
       "      <td>ROMELIA C SCOTT</td>\n",
       "      <td>FIREFIGHTER</td>\n",
       "      <td>112703.73</td>\n",
       "      <td>134077.58</td>\n",
       "      <td>23626.96</td>\n",
       "      <td>43240.04</td>\n",
       "      <td>270408.27</td>\n",
       "      <td>313648.31</td>\n",
       "      <td>2014</td>\n",
       "    </tr>\n",
       "    <tr>\n",
       "      <th>110594</th>\n",
       "      <td>110595</td>\n",
       "      <td>GREGORY CORRALES</td>\n",
       "      <td>CAPTAIN 3</td>\n",
       "      <td>87324.00</td>\n",
       "      <td>0.00</td>\n",
       "      <td>199112.35</td>\n",
       "      <td>24960.45</td>\n",
       "      <td>286436.35</td>\n",
       "      <td>311396.80</td>\n",
       "      <td>2014</td>\n",
       "    </tr>\n",
       "    <tr>\n",
       "      <th>110595</th>\n",
       "      <td>110596</td>\n",
       "      <td>GEORGE FOURAS</td>\n",
       "      <td>SENIOR PHYSICIAN SPECIALIST</td>\n",
       "      <td>205331.77</td>\n",
       "      <td>0.00</td>\n",
       "      <td>41434.76</td>\n",
       "      <td>64305.43</td>\n",
       "      <td>246766.53</td>\n",
       "      <td>311071.96</td>\n",
       "      <td>2014</td>\n",
       "    </tr>\n",
       "    <tr>\n",
       "      <th>110596</th>\n",
       "      <td>110597</td>\n",
       "      <td>EMILIO CRUZ</td>\n",
       "      <td>EXECUTIVE CONTRACT EMPLOYEE</td>\n",
       "      <td>246928.40</td>\n",
       "      <td>0.00</td>\n",
       "      <td>0.00</td>\n",
       "      <td>63923.67</td>\n",
       "      <td>246928.40</td>\n",
       "      <td>310852.07</td>\n",
       "      <td>2014</td>\n",
       "    </tr>\n",
       "    <tr>\n",
       "      <th>110597</th>\n",
       "      <td>110598</td>\n",
       "      <td>DALE C CARNES</td>\n",
       "      <td>CAPTAIN, FIRE SUPPRESSION</td>\n",
       "      <td>230386.03</td>\n",
       "      <td>0.00</td>\n",
       "      <td>14512.16</td>\n",
       "      <td>64814.42</td>\n",
       "      <td>244898.19</td>\n",
       "      <td>309712.61</td>\n",
       "      <td>2014</td>\n",
       "    </tr>\n",
       "    <tr>\n",
       "      <th>110598</th>\n",
       "      <td>110599</td>\n",
       "      <td>TOMAS J ARAGON</td>\n",
       "      <td>MANAGER 8</td>\n",
       "      <td>226821.67</td>\n",
       "      <td>0.00</td>\n",
       "      <td>14569.23</td>\n",
       "      <td>68016.90</td>\n",
       "      <td>241390.90</td>\n",
       "      <td>309407.80</td>\n",
       "      <td>2014</td>\n",
       "    </tr>\n",
       "    <tr>\n",
       "      <th>110599</th>\n",
       "      <td>110600</td>\n",
       "      <td>LESLIE A DUBBIN</td>\n",
       "      <td>NURSING SUPERVISOR</td>\n",
       "      <td>199104.00</td>\n",
       "      <td>0.00</td>\n",
       "      <td>47099.71</td>\n",
       "      <td>62967.21</td>\n",
       "      <td>246203.71</td>\n",
       "      <td>309170.92</td>\n",
       "      <td>2014</td>\n",
       "    </tr>\n",
       "    <tr>\n",
       "      <th>110600</th>\n",
       "      <td>110601</td>\n",
       "      <td>CHARLES CRANE</td>\n",
       "      <td>BATTALION CHIEF, FIRE SUPPRESS</td>\n",
       "      <td>179464.22</td>\n",
       "      <td>39232.60</td>\n",
       "      <td>31782.54</td>\n",
       "      <td>58678.04</td>\n",
       "      <td>250479.36</td>\n",
       "      <td>309157.40</td>\n",
       "      <td>2014</td>\n",
       "    </tr>\n",
       "    <tr>\n",
       "      <th>110601</th>\n",
       "      <td>110602</td>\n",
       "      <td>MICHIE L WONG</td>\n",
       "      <td>LIEUT,FIRE PREV</td>\n",
       "      <td>230386.01</td>\n",
       "      <td>0.00</td>\n",
       "      <td>13823.16</td>\n",
       "      <td>64939.79</td>\n",
       "      <td>244209.17</td>\n",
       "      <td>309148.96</td>\n",
       "      <td>2014</td>\n",
       "    </tr>\n",
       "    <tr>\n",
       "      <th>110602</th>\n",
       "      <td>110603</td>\n",
       "      <td>IVAR C SATERO</td>\n",
       "      <td>DEP DIR 5</td>\n",
       "      <td>235462.09</td>\n",
       "      <td>0.00</td>\n",
       "      <td>0.00</td>\n",
       "      <td>73614.57</td>\n",
       "      <td>235462.09</td>\n",
       "      <td>309076.66</td>\n",
       "      <td>2014</td>\n",
       "    </tr>\n",
       "    <tr>\n",
       "      <th>110603</th>\n",
       "      <td>110604</td>\n",
       "      <td>ANA C SAMPERA</td>\n",
       "      <td>NURSING SUPERVISOR</td>\n",
       "      <td>205280.01</td>\n",
       "      <td>0.00</td>\n",
       "      <td>37590.20</td>\n",
       "      <td>65716.83</td>\n",
       "      <td>242870.21</td>\n",
       "      <td>308587.04</td>\n",
       "      <td>2014</td>\n",
       "    </tr>\n",
       "    <tr>\n",
       "      <th>110604</th>\n",
       "      <td>110605</td>\n",
       "      <td>JOHN A HICKEY</td>\n",
       "      <td>BATTALION CHIEF, FIRE SUPPRESS</td>\n",
       "      <td>177771.13</td>\n",
       "      <td>40640.32</td>\n",
       "      <td>30613.76</td>\n",
       "      <td>58498.47</td>\n",
       "      <td>249025.21</td>\n",
       "      <td>307523.68</td>\n",
       "      <td>2014</td>\n",
       "    </tr>\n",
       "    <tr>\n",
       "      <th>110605</th>\n",
       "      <td>110606</td>\n",
       "      <td>DENISE L NEWMAN</td>\n",
       "      <td>BATTALION CHIEF, FIRE SUPPRESS</td>\n",
       "      <td>179464.20</td>\n",
       "      <td>42739.00</td>\n",
       "      <td>25082.63</td>\n",
       "      <td>59634.58</td>\n",
       "      <td>247285.83</td>\n",
       "      <td>306920.41</td>\n",
       "      <td>2014</td>\n",
       "    </tr>\n",
       "    <tr>\n",
       "      <th>110606</th>\n",
       "      <td>110607</td>\n",
       "      <td>NELA C PONFERRADA</td>\n",
       "      <td>NURSING SUPERVISOR</td>\n",
       "      <td>205280.00</td>\n",
       "      <td>0.00</td>\n",
       "      <td>37590.20</td>\n",
       "      <td>62671.31</td>\n",
       "      <td>242870.20</td>\n",
       "      <td>305541.51</td>\n",
       "      <td>2014</td>\n",
       "    </tr>\n",
       "    <tr>\n",
       "      <th>110607</th>\n",
       "      <td>110608</td>\n",
       "      <td>JOHN S RAHAIM</td>\n",
       "      <td>DEPT HEAD 4</td>\n",
       "      <td>232489.33</td>\n",
       "      <td>0.00</td>\n",
       "      <td>0.00</td>\n",
       "      <td>72233.72</td>\n",
       "      <td>232489.33</td>\n",
       "      <td>304723.05</td>\n",
       "      <td>2014</td>\n",
       "    </tr>\n",
       "    <tr>\n",
       "      <th>110608</th>\n",
       "      <td>110609</td>\n",
       "      <td>TERENCE E WOO</td>\n",
       "      <td>FIREFIGHTER</td>\n",
       "      <td>111640.48</td>\n",
       "      <td>127698.35</td>\n",
       "      <td>21604.79</td>\n",
       "      <td>43610.42</td>\n",
       "      <td>260943.62</td>\n",
       "      <td>304554.04</td>\n",
       "      <td>2014</td>\n",
       "    </tr>\n",
       "    <tr>\n",
       "      <th>110609</th>\n",
       "      <td>110610</td>\n",
       "      <td>DENNIS J HERRERA</td>\n",
       "      <td>CITY ATTORNEY</td>\n",
       "      <td>231523.83</td>\n",
       "      <td>0.00</td>\n",
       "      <td>0.00</td>\n",
       "      <td>72593.84</td>\n",
       "      <td>231523.83</td>\n",
       "      <td>304117.67</td>\n",
       "      <td>2014</td>\n",
       "    </tr>\n",
       "    <tr>\n",
       "      <th>110610</th>\n",
       "      <td>110611</td>\n",
       "      <td>GERALD K MANSUR</td>\n",
       "      <td>EMT/PARAMEDIC/FIREFIGHTER</td>\n",
       "      <td>129037.14</td>\n",
       "      <td>111884.75</td>\n",
       "      <td>16129.63</td>\n",
       "      <td>47012.64</td>\n",
       "      <td>257051.52</td>\n",
       "      <td>304064.16</td>\n",
       "      <td>2014</td>\n",
       "    </tr>\n",
       "    <tr>\n",
       "      <th>110611</th>\n",
       "      <td>110612</td>\n",
       "      <td>MICHAEL I THOMPSON</td>\n",
       "      <td>BATTALION CHIEF, FIRE SUPPRESS</td>\n",
       "      <td>179464.22</td>\n",
       "      <td>50039.97</td>\n",
       "      <td>16160.22</td>\n",
       "      <td>57811.77</td>\n",
       "      <td>245664.41</td>\n",
       "      <td>303476.18</td>\n",
       "      <td>2014</td>\n",
       "    </tr>\n",
       "    <tr>\n",
       "      <th>110612</th>\n",
       "      <td>110613</td>\n",
       "      <td>REX J HALE</td>\n",
       "      <td>BATTALION CHIEF, FIRE SUPPRESS</td>\n",
       "      <td>179464.22</td>\n",
       "      <td>37039.89</td>\n",
       "      <td>26894.45</td>\n",
       "      <td>59996.26</td>\n",
       "      <td>243398.56</td>\n",
       "      <td>303394.82</td>\n",
       "      <td>2014</td>\n",
       "    </tr>\n",
       "    <tr>\n",
       "      <th>110613</th>\n",
       "      <td>110614</td>\n",
       "      <td>ALBERT YU</td>\n",
       "      <td>MANAGER 8</td>\n",
       "      <td>231435.01</td>\n",
       "      <td>0.00</td>\n",
       "      <td>0.00</td>\n",
       "      <td>71499.66</td>\n",
       "      <td>231435.01</td>\n",
       "      <td>302934.67</td>\n",
       "      <td>2014</td>\n",
       "    </tr>\n",
       "    <tr>\n",
       "      <th>110614</th>\n",
       "      <td>110615</td>\n",
       "      <td>SHANNON S HEINTZ</td>\n",
       "      <td>ANESTHETIST</td>\n",
       "      <td>213558.05</td>\n",
       "      <td>3773.32</td>\n",
       "      <td>18588.58</td>\n",
       "      <td>66844.67</td>\n",
       "      <td>235919.95</td>\n",
       "      <td>302764.62</td>\n",
       "      <td>2014</td>\n",
       "    </tr>\n",
       "    <tr>\n",
       "      <th>110615</th>\n",
       "      <td>110616</td>\n",
       "      <td>SAMUEL ROMERO</td>\n",
       "      <td>BATTALION CHIEF, FIRE SUPPRESS</td>\n",
       "      <td>179464.20</td>\n",
       "      <td>38802.15</td>\n",
       "      <td>24701.63</td>\n",
       "      <td>59547.42</td>\n",
       "      <td>242967.98</td>\n",
       "      <td>302515.40</td>\n",
       "      <td>2014</td>\n",
       "    </tr>\n",
       "    <tr>\n",
       "      <th>110616</th>\n",
       "      <td>110617</td>\n",
       "      <td>ALEXANDER CHEN</td>\n",
       "      <td>SENIOR PHYSICIAN SPECIALIST</td>\n",
       "      <td>198874.01</td>\n",
       "      <td>0.00</td>\n",
       "      <td>40826.32</td>\n",
       "      <td>62701.48</td>\n",
       "      <td>239700.33</td>\n",
       "      <td>302401.81</td>\n",
       "      <td>2014</td>\n",
       "    </tr>\n",
       "    <tr>\n",
       "      <th>110617</th>\n",
       "      <td>110618</td>\n",
       "      <td>JAY K DOWKE</td>\n",
       "      <td>POLICE OFFICER 3</td>\n",
       "      <td>100148.75</td>\n",
       "      <td>15716.42</td>\n",
       "      <td>152037.57</td>\n",
       "      <td>33847.07</td>\n",
       "      <td>267902.74</td>\n",
       "      <td>301749.81</td>\n",
       "      <td>2014</td>\n",
       "    </tr>\n",
       "    <tr>\n",
       "      <th>110618</th>\n",
       "      <td>110619</td>\n",
       "      <td>EDWARD Y CHU</td>\n",
       "      <td>LIEUTENANT, FIRE SUPPRESSION</td>\n",
       "      <td>129817.24</td>\n",
       "      <td>108123.01</td>\n",
       "      <td>16979.29</td>\n",
       "      <td>46748.39</td>\n",
       "      <td>254919.54</td>\n",
       "      <td>301667.93</td>\n",
       "      <td>2014</td>\n",
       "    </tr>\n",
       "    <tr>\n",
       "      <th>110619</th>\n",
       "      <td>110620</td>\n",
       "      <td>MATTHEW J MCNAUGHTON</td>\n",
       "      <td>ASST CHF OF DEPT (FIRE DEPT)</td>\n",
       "      <td>205480.80</td>\n",
       "      <td>0.00</td>\n",
       "      <td>29794.80</td>\n",
       "      <td>65881.22</td>\n",
       "      <td>235275.60</td>\n",
       "      <td>301156.82</td>\n",
       "      <td>2014</td>\n",
       "    </tr>\n",
       "    <tr>\n",
       "      <th>110620</th>\n",
       "      <td>110621</td>\n",
       "      <td>MADONNA P VALENCIA</td>\n",
       "      <td>MANAGER, DEPT PUBLIC HEALTH</td>\n",
       "      <td>201305.83</td>\n",
       "      <td>0.00</td>\n",
       "      <td>37292.77</td>\n",
       "      <td>62477.06</td>\n",
       "      <td>238598.60</td>\n",
       "      <td>301075.66</td>\n",
       "      <td>2014</td>\n",
       "    </tr>\n",
       "    <tr>\n",
       "      <th>110621</th>\n",
       "      <td>110622</td>\n",
       "      <td>ROSS B MIRKARIMI</td>\n",
       "      <td>SHERIFF (SFERS)</td>\n",
       "      <td>215629.23</td>\n",
       "      <td>0.00</td>\n",
       "      <td>12937.66</td>\n",
       "      <td>71962.27</td>\n",
       "      <td>228566.89</td>\n",
       "      <td>300529.16</td>\n",
       "      <td>2014</td>\n",
       "    </tr>\n",
       "  </tbody>\n",
       "</table>\n",
       "<p>289 rows × 10 columns</p>\n",
       "</div>"
      ],
      "text/plain": [
       "            Id          EmployeeName  \\\n",
       "0            1        NATHANIEL FORD   \n",
       "1            2          GARY JIMENEZ   \n",
       "2            3        ALBERT PARDINI   \n",
       "3            4     CHRISTOPHER CHONG   \n",
       "4            5       PATRICK GARDNER   \n",
       "...        ...                   ...   \n",
       "110617  110618           JAY K DOWKE   \n",
       "110618  110619          EDWARD Y CHU   \n",
       "110619  110620  MATTHEW J MCNAUGHTON   \n",
       "110620  110621    MADONNA P VALENCIA   \n",
       "110621  110622      ROSS B MIRKARIMI   \n",
       "\n",
       "                                              JobTitle    BasePay  \\\n",
       "0       GENERAL MANAGER-METROPOLITAN TRANSIT AUTHORITY  167411.18   \n",
       "1                      CAPTAIN III (POLICE DEPARTMENT)  155966.02   \n",
       "2                      CAPTAIN III (POLICE DEPARTMENT)  212739.13   \n",
       "3                 WIRE ROPE CABLE MAINTENANCE MECHANIC   77916.00   \n",
       "4         DEPUTY CHIEF OF DEPARTMENT,(FIRE DEPARTMENT)  134401.60   \n",
       "...                                                ...        ...   \n",
       "110617                                POLICE OFFICER 3  100148.75   \n",
       "110618                    LIEUTENANT, FIRE SUPPRESSION  129817.24   \n",
       "110619                    ASST CHF OF DEPT (FIRE DEPT)  205480.80   \n",
       "110620                     MANAGER, DEPT PUBLIC HEALTH  201305.83   \n",
       "110621                                 SHERIFF (SFERS)  215629.23   \n",
       "\n",
       "        OvertimePay   OtherPay  Benefits   TotalPay  TotalPayBenefits  Year  \n",
       "0              0.00  400184.25      0.00  567595.43         567595.43  2011  \n",
       "1         245131.88  137811.38      0.00  538909.28         538909.28  2011  \n",
       "2         106088.18   16452.60      0.00  335279.91         335279.91  2011  \n",
       "3          56120.71  198306.90      0.00  332343.61         332343.61  2011  \n",
       "4           9737.00  182234.59      0.00  326373.19         326373.19  2011  \n",
       "...             ...        ...       ...        ...               ...   ...  \n",
       "110617     15716.42  152037.57  33847.07  267902.74         301749.81  2014  \n",
       "110618    108123.01   16979.29  46748.39  254919.54         301667.93  2014  \n",
       "110619         0.00   29794.80  65881.22  235275.60         301156.82  2014  \n",
       "110620         0.00   37292.77  62477.06  238598.60         301075.66  2014  \n",
       "110621         0.00   12937.66  71962.27  228566.89         300529.16  2014  \n",
       "\n",
       "[289 rows x 10 columns]"
      ]
     },
     "execution_count": 92,
     "metadata": {},
     "output_type": "execute_result"
    }
   ],
   "source": [
    "# Select people that have TotalPayBenefit greater than $300k\n",
    "# Your code here\n",
    "sal[sal[\"TotalPayBenefits\"] > 300000]"
   ]
  },
  {
   "cell_type": "code",
   "execution_count": 94,
   "metadata": {
    "colab": {},
    "colab_type": "code",
    "id": "Qc4DYmaNPm2Y"
   },
   "outputs": [],
   "source": [
    "def split_income_type(n):\n",
    "    if n < 1000:\n",
    "        return 'Retired'\n",
    "    elif n < 50000:\n",
    "        return 'Low Income'\n",
    "    elif n < 150000:\n",
    "        return 'Midrange'\n",
    "    elif n < 250000:\n",
    "        return 'High Income'\n",
    "    else:\n",
    "        return 'Millionaire'"
   ]
  },
  {
   "cell_type": "code",
   "execution_count": 95,
   "metadata": {
    "colab": {},
    "colab_type": "code",
    "id": "ndS0LG9_tX0Y"
   },
   "outputs": [],
   "source": [
    "# Apply the function above to create a new column name IncomeType from TotalPayBenefits\n",
    "# Fill the blank\n",
    "sal['IncomeType'] = sal[\"TotalPayBenefits\"].apply(split_income_type)"
   ]
  },
  {
   "cell_type": "code",
   "execution_count": 96,
   "metadata": {
    "colab": {},
    "colab_type": "code",
    "id": "Uh8VVB1nPm2a",
    "outputId": "bdee24cb-df51-4b30-9319-750375b4134a"
   },
   "outputs": [
    {
     "data": {
      "text/plain": [
       "<matplotlib.axes._subplots.AxesSubplot at 0x22acabbb390>"
      ]
     },
     "execution_count": 96,
     "metadata": {},
     "output_type": "execute_result"
    },
    {
     "data": {
      "image/png": "[encoded data removed]",
      "text/plain": [
       "<Figure size 432x288 with 1 Axes>"
      ]
     },
     "metadata": {
      "needs_background": "light"
     },
     "output_type": "display_data"
    }
   ],
   "source": [
    "sns.countplot(sal['IncomeType'])\n",
    "# What can you tell?"
   ]
  },
  {
   "cell_type": "code",
   "execution_count": 97,
   "metadata": {
    "colab": {},
    "colab_type": "code",
    "id": "iQtknDUIPm2e",
    "outputId": "78563215-b7bf-409c-d5de-712792c1d30e"
   },
   "outputs": [
    {
     "data": {
      "image/png": "[encoded data removed]",
      "text/plain": [
       "<Figure size 432x288 with 1 Axes>"
      ]
     },
     "metadata": {},
     "output_type": "display_data"
    }
   ],
   "source": [
    "# Pie chart\n",
    "labels = []\n",
    "sizes = []\n",
    "explode = []\n",
    "\n",
    "labels = sal['IncomeType'].value_counts().index\n",
    "for index, size in enumerate(sal['IncomeType'].value_counts()):\n",
    "    sizes.append(size)\n",
    "    if labels[index]=='Millionaire':\n",
    "        explode.append(0.2)\n",
    "    else: # add high income too?\n",
    "        explode.append(0)\n",
    " \n",
    "f, ax1 = plt.subplots()\n",
    "ax1.pie(sizes, explode=explode, labels=labels, autopct='%1.1f%%',\n",
    "        shadow=True, startangle=45)\n",
    "# Equal aspect ratio ensures that pie is drawn as a circle\n",
    "ax1.axis('equal')  \n",
    "plt.tight_layout()\n",
    "plt.show()"
   ]
  },
  {
   "cell_type": "code",
   "execution_count": 101,
   "metadata": {
    "colab": {},
    "colab_type": "code",
    "id": "pbAUA-kgPm20"
   },
   "outputs": [
    {
     "ename": "KeyError",
     "evalue": "'JobTitle'",
     "output_type": "error",
     "traceback": [
      "\u001b[1;31m---------------------------------------------------------------------------\u001b[0m",
      "\u001b[1;31mKeyError\u001b[0m                                  Traceback (most recent call last)",
      "\u001b[1;32m<ipython-input-101-762b7f5b3943>\u001b[0m in \u001b[0;36m<module>\u001b[1;34m\u001b[0m\n\u001b[0;32m      1\u001b[0m \u001b[1;31m# What is the top 10 Job Title of Millionaire\u001b[0m\u001b[1;33m\u001b[0m\u001b[1;33m\u001b[0m\u001b[0m\n\u001b[0;32m      2\u001b[0m \u001b[1;31m# Fill the blank\u001b[0m\u001b[1;33m\u001b[0m\u001b[1;33m\u001b[0m\u001b[0m\n\u001b[1;32m----> 3\u001b[1;33m \u001b[0mmillionare_jobs\u001b[0m \u001b[1;33m=\u001b[0m \u001b[0msal\u001b[0m\u001b[1;33m[\u001b[0m\u001b[1;34m\"EmployeeName\"\u001b[0m\u001b[1;33m]\u001b[0m\u001b[1;33m.\u001b[0m\u001b[0mgroupby\u001b[0m\u001b[1;33m(\u001b[0m\u001b[1;34m'JobTitle'\u001b[0m\u001b[1;33m)\u001b[0m\u001b[1;33m.\u001b[0m\u001b[0mmean\u001b[0m\u001b[1;33m(\u001b[0m\u001b[1;33m)\u001b[0m\u001b[1;33m\u001b[0m\u001b[0m\n\u001b[0m\u001b[0;32m      4\u001b[0m \u001b[0mmillionare_jobs\u001b[0m\u001b[1;33m.\u001b[0m\u001b[0msort_values\u001b[0m\u001b[1;33m(\u001b[0m\u001b[0mby\u001b[0m\u001b[1;33m=\u001b[0m\u001b[1;33m[\u001b[0m\u001b[1;34m'TotalPayBenefits'\u001b[0m\u001b[1;33m]\u001b[0m\u001b[1;33m,\u001b[0m \u001b[0mascending\u001b[0m\u001b[1;33m=\u001b[0m\u001b[1;32mTrue\u001b[0m\u001b[1;33m)\u001b[0m\u001b[1;33m[\u001b[0m\u001b[1;34m'TotalPayBenefits'\u001b[0m\u001b[1;33m]\u001b[0m\u001b[1;33m.\u001b[0m\u001b[0mhead\u001b[0m\u001b[1;33m(\u001b[0m\u001b[1;36m10\u001b[0m\u001b[1;33m)\u001b[0m\u001b[1;33m.\u001b[0m\u001b[0mplot\u001b[0m\u001b[1;33m(\u001b[0m\u001b[0mkind\u001b[0m\u001b[1;33m=\u001b[0m\u001b[1;34m'bar'\u001b[0m\u001b[1;33m)\u001b[0m\u001b[1;33m\u001b[0m\u001b[0m\n",
      "\u001b[1;32mc:\\users\\huy\\appdata\\local\\programs\\python\\python36\\lib\\site-packages\\pandas\\core\\generic.py\u001b[0m in \u001b[0;36mgroupby\u001b[1;34m(self, by, axis, level, as_index, sort, group_keys, squeeze, observed, **kwargs)\u001b[0m\n\u001b[0;32m   7894\u001b[0m             \u001b[0msqueeze\u001b[0m\u001b[1;33m=\u001b[0m\u001b[0msqueeze\u001b[0m\u001b[1;33m,\u001b[0m\u001b[1;33m\u001b[0m\u001b[0m\n\u001b[0;32m   7895\u001b[0m             \u001b[0mobserved\u001b[0m\u001b[1;33m=\u001b[0m\u001b[0mobserved\u001b[0m\u001b[1;33m,\u001b[0m\u001b[1;33m\u001b[0m\u001b[0m\n\u001b[1;32m-> 7896\u001b[1;33m             \u001b[1;33m**\u001b[0m\u001b[0mkwargs\u001b[0m\u001b[1;33m\u001b[0m\u001b[0m\n\u001b[0m\u001b[0;32m   7897\u001b[0m         )\n\u001b[0;32m   7898\u001b[0m \u001b[1;33m\u001b[0m\u001b[0m\n",
      "\u001b[1;32mc:\\users\\huy\\appdata\\local\\programs\\python\\python36\\lib\\site-packages\\pandas\\core\\groupby\\groupby.py\u001b[0m in \u001b[0;36mgroupby\u001b[1;34m(obj, by, **kwds)\u001b[0m\n\u001b[0;32m   2476\u001b[0m         \u001b[1;32mraise\u001b[0m \u001b[0mTypeError\u001b[0m\u001b[1;33m(\u001b[0m\u001b[1;34m\"invalid type: {}\"\u001b[0m\u001b[1;33m.\u001b[0m\u001b[0mformat\u001b[0m\u001b[1;33m(\u001b[0m\u001b[0mobj\u001b[0m\u001b[1;33m)\u001b[0m\u001b[1;33m)\u001b[0m\u001b[1;33m\u001b[0m\u001b[0m\n\u001b[0;32m   2477\u001b[0m \u001b[1;33m\u001b[0m\u001b[0m\n\u001b[1;32m-> 2478\u001b[1;33m     \u001b[1;32mreturn\u001b[0m \u001b[0mklass\u001b[0m\u001b[1;33m(\u001b[0m\u001b[0mobj\u001b[0m\u001b[1;33m,\u001b[0m \u001b[0mby\u001b[0m\u001b[1;33m,\u001b[0m \u001b[1;33m**\u001b[0m\u001b[0mkwds\u001b[0m\u001b[1;33m)\u001b[0m\u001b[1;33m\u001b[0m\u001b[0m\n\u001b[0m",
      "\u001b[1;32mc:\\users\\huy\\appdata\\local\\programs\\python\\python36\\lib\\site-packages\\pandas\\core\\groupby\\groupby.py\u001b[0m in \u001b[0;36m__init__\u001b[1;34m(self, obj, keys, axis, level, grouper, exclusions, selection, as_index, sort, group_keys, squeeze, observed, **kwargs)\u001b[0m\n\u001b[0;32m    389\u001b[0m                 \u001b[0msort\u001b[0m\u001b[1;33m=\u001b[0m\u001b[0msort\u001b[0m\u001b[1;33m,\u001b[0m\u001b[1;33m\u001b[0m\u001b[0m\n\u001b[0;32m    390\u001b[0m                 \u001b[0mobserved\u001b[0m\u001b[1;33m=\u001b[0m\u001b[0mobserved\u001b[0m\u001b[1;33m,\u001b[0m\u001b[1;33m\u001b[0m\u001b[0m\n\u001b[1;32m--> 391\u001b[1;33m                 \u001b[0mmutated\u001b[0m\u001b[1;33m=\u001b[0m\u001b[0mself\u001b[0m\u001b[1;33m.\u001b[0m\u001b[0mmutated\u001b[0m\u001b[1;33m,\u001b[0m\u001b[1;33m\u001b[0m\u001b[0m\n\u001b[0m\u001b[0;32m    392\u001b[0m             )\n\u001b[0;32m    393\u001b[0m \u001b[1;33m\u001b[0m\u001b[0m\n",
      "\u001b[1;32mc:\\users\\huy\\appdata\\local\\programs\\python\\python36\\lib\\site-packages\\pandas\\core\\groupby\\grouper.py\u001b[0m in \u001b[0;36m_get_grouper\u001b[1;34m(obj, key, axis, level, sort, observed, mutated, validate)\u001b[0m\n\u001b[0;32m    619\u001b[0m                 \u001b[0min_axis\u001b[0m\u001b[1;33m,\u001b[0m \u001b[0mname\u001b[0m\u001b[1;33m,\u001b[0m \u001b[0mlevel\u001b[0m\u001b[1;33m,\u001b[0m \u001b[0mgpr\u001b[0m \u001b[1;33m=\u001b[0m \u001b[1;32mFalse\u001b[0m\u001b[1;33m,\u001b[0m \u001b[1;32mNone\u001b[0m\u001b[1;33m,\u001b[0m \u001b[0mgpr\u001b[0m\u001b[1;33m,\u001b[0m \u001b[1;32mNone\u001b[0m\u001b[1;33m\u001b[0m\u001b[0m\n\u001b[0;32m    620\u001b[0m             \u001b[1;32melse\u001b[0m\u001b[1;33m:\u001b[0m\u001b[1;33m\u001b[0m\u001b[0m\n\u001b[1;32m--> 621\u001b[1;33m                 \u001b[1;32mraise\u001b[0m \u001b[0mKeyError\u001b[0m\u001b[1;33m(\u001b[0m\u001b[0mgpr\u001b[0m\u001b[1;33m)\u001b[0m\u001b[1;33m\u001b[0m\u001b[0m\n\u001b[0m\u001b[0;32m    622\u001b[0m         \u001b[1;32melif\u001b[0m \u001b[0misinstance\u001b[0m\u001b[1;33m(\u001b[0m\u001b[0mgpr\u001b[0m\u001b[1;33m,\u001b[0m \u001b[0mGrouper\u001b[0m\u001b[1;33m)\u001b[0m \u001b[1;32mand\u001b[0m \u001b[0mgpr\u001b[0m\u001b[1;33m.\u001b[0m\u001b[0mkey\u001b[0m \u001b[1;32mis\u001b[0m \u001b[1;32mnot\u001b[0m \u001b[1;32mNone\u001b[0m\u001b[1;33m:\u001b[0m\u001b[1;33m\u001b[0m\u001b[0m\n\u001b[0;32m    623\u001b[0m             \u001b[1;31m# Add key to exclusions\u001b[0m\u001b[1;33m\u001b[0m\u001b[1;33m\u001b[0m\u001b[0m\n",
      "\u001b[1;31mKeyError\u001b[0m: 'JobTitle'"
     ]
    }
   ],
   "source": [
    "# What is the top 10 Job Title of Millionaire\n",
    "# Fill the blank\n",
    "millionare_jobs = sal[\"EmployeeName\"].groupby('JobTitle').mean()\n",
    "millionare_jobs.sort_values(by=['TotalPayBenefits'], ascending=True)['TotalPayBenefits'].head(10).plot(kind='bar')"
   ]
  },
  {
   "cell_type": "code",
   "execution_count": null,
   "metadata": {
    "colab": {},
    "colab_type": "code",
    "id": "5LNMS8DGPm22"
   },
   "outputs": [],
   "source": [
    "# Find the name of 10 richest man\n",
    "# Your code here\n",
    "richest_man = sal.sort_values().grouby()"
   ]
  },
  {
   "cell_type": "code",
   "execution_count": null,
   "metadata": {
    "colab": {},
    "colab_type": "code",
    "id": "TDMwfQIfPm2-",
    "outputId": "9df94fce-80ad-48e1-83fc-77236c09754f"
   },
   "outputs": [],
   "source": [
    "# Analyze TotalPayBenefits of 10 richest man each Year\n",
    "# Your code here"
   ]
  },
  {
   "cell_type": "markdown",
   "metadata": {
    "colab_type": "text",
    "id": "MoBgPjDiwhdV"
   },
   "source": [
    "### You are awesome!!"
   ]
  }
 ],
 "metadata": {
  "colab": {
   "name": "Lab_3_EDA.ipynb",
   "provenance": [],
   "version": "0.3.2"
  },
  "kernelspec": {
   "display_name": "Python 3",
   "language": "python",
   "name": "python3"
  },
  "language_info": {
   "codemirror_mode": {
    "name": "ipython",
    "version": 3
   },
   "file_extension": ".py",
   "mimetype": "text/x-python",
   "name": "python",
   "nbconvert_exporter": "python",
   "pygments_lexer": "ipython3",
   "version": "3.6.5"
  }
 },
 "nbformat": 4,
 "nbformat_minor": 1
}
